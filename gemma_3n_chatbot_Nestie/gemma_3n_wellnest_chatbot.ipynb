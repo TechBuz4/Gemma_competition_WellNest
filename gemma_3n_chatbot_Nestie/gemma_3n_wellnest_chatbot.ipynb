{
  "metadata": {
    "kernelspec": {
      "display_name": "Python 3",
      "language": "python",
      "name": "python3"
    },
    "language_info": {
      "codemirror_mode": {
        "name": "ipython",
        "version": 3
      },
      "file_extension": ".py",
      "mimetype": "text/x-python",
      "name": "python",
      "nbconvert_exporter": "python",
      "pygments_lexer": "ipython3",
      "version": "3.11.13"
    },
    "kaggle": {
      "accelerator": "nvidiaTeslaT4",
      "dataSources": [],
      "dockerImageVersionId": 31090,
      "isInternetEnabled": true,
      "language": "python",
      "sourceType": "notebook",
      "isGpuEnabled": true
    },
    "papermill": {
      "default_parameters": {},
      "duration": 293.847751,
      "end_time": "2025-07-29T04:24:36.413510",
      "environment_variables": {},
      "exception": true,
      "input_path": "__notebook__.ipynb",
      "output_path": "__notebook__.ipynb",
      "parameters": {},
      "start_time": "2025-07-29T04:19:42.565759",
      "version": "2.6.0"
    },
    "colab": {
      "provenance": []
    }
  },
  "nbformat_minor": 5,
  "nbformat": 4,
  "cells": [
    {
      "id": "9a1f26bd",
      "cell_type": "code",
      "source": [
        "# This Python 3 environment comes with many helpful analytics libraries installed\n",
        "# It is defined by the kaggle/python Docker image: https://github.com/kaggle/docker-python\n",
        "# For example, here's several helpful packages to load\n",
        "\n",
        "import numpy as np # linear algebra\n",
        "import pandas as pd # data processing, CSV file I/O (e.g. pd.read_csv)\n",
        "\n",
        "# Input data files are available in the read-only \"../input/\" directory\n",
        "# For example, running this (by clicking run or pressing Shift+Enter) will list all files under the input directory\n",
        "\n",
        "import os\n",
        "for dirname, _, filenames in os.walk('/kaggle/input'):\n",
        "    for filename in filenames:\n",
        "        print(os.path.join(dirname, filename))\n",
        "\n",
        "# You can write up to 20GB to the current directory (/kaggle/working/) that gets preserved as output when you create a version using \"Save & Run All\"\n",
        "# You can also write temporary files to /kaggle/temp/, but they won't be saved outside of the current session"
      ],
      "metadata": {
        "_cell_guid": "b1076dfc-b9ad-4769-8c92-a6c4dae69d19",
        "_uuid": "8f2839f25d086af736a60e9eeb907d3b93b6e0e5",
        "execution": {
          "iopub.status.busy": "2025-08-05T23:01:18.140999Z",
          "iopub.execute_input": "2025-08-05T23:01:18.141204Z",
          "iopub.status.idle": "2025-08-05T23:01:20.711213Z",
          "shell.execute_reply.started": "2025-08-05T23:01:18.141181Z",
          "shell.execute_reply": "2025-08-05T23:01:20.710622Z"
        },
        "papermill": {
          "duration": 1.805324,
          "end_time": "2025-07-29T04:19:48.812227",
          "exception": false,
          "start_time": "2025-07-29T04:19:47.006903",
          "status": "completed"
        },
        "tags": [],
        "trusted": true,
        "id": "9a1f26bd"
      },
      "outputs": [],
      "execution_count": null
    },
    {
      "id": "b3cfd150-0b5e-438e-bae2-599a983eead8",
      "cell_type": "markdown",
      "source": [
        "## Setting up the environment"
      ],
      "metadata": {
        "id": "b3cfd150-0b5e-438e-bae2-599a983eead8"
      }
    },
    {
      "id": "f4c4edf3",
      "cell_type": "code",
      "source": [
        "import os\n",
        "os.environ[\"CUDA_VISIBLE_DEVICES\"] = \"0\""
      ],
      "metadata": {
        "execution": {
          "iopub.status.busy": "2025-08-05T23:01:20.712634Z",
          "iopub.execute_input": "2025-08-05T23:01:20.712985Z",
          "iopub.status.idle": "2025-08-05T23:01:20.717099Z",
          "shell.execute_reply.started": "2025-08-05T23:01:20.712967Z",
          "shell.execute_reply": "2025-08-05T23:01:20.716293Z"
        },
        "papermill": {
          "duration": 0.011247,
          "end_time": "2025-07-29T04:19:48.829198",
          "exception": false,
          "start_time": "2025-07-29T04:19:48.817951",
          "status": "completed"
        },
        "tags": [],
        "trusted": true,
        "id": "f4c4edf3"
      },
      "outputs": [],
      "execution_count": null
    },
    {
      "id": "37c3f41f",
      "cell_type": "code",
      "source": [
        "!pip install unsloth"
      ],
      "metadata": {
        "execution": {
          "iopub.status.busy": "2025-08-05T23:01:20.717918Z",
          "iopub.execute_input": "2025-08-05T23:01:20.718156Z",
          "iopub.status.idle": "2025-08-05T23:06:20.703788Z",
          "shell.execute_reply.started": "2025-08-05T23:01:20.718130Z",
          "shell.execute_reply": "2025-08-05T23:06:20.702714Z"
        },
        "papermill": {
          "duration": 236.190024,
          "end_time": "2025-07-29T04:23:45.024641",
          "exception": false,
          "start_time": "2025-07-29T04:19:48.834617",
          "status": "completed"
        },
        "tags": [],
        "trusted": true,
        "id": "37c3f41f",
        "outputId": "ee6886c7-1af2-47e0-e2f6-29f6e16f40ed"
      },
      "outputs": [
        {
          "name": "stdout",
          "text": "Collecting unsloth\n  Downloading unsloth-2025.8.1-py3-none-any.whl.metadata (47 kB)\n\u001b[2K     \u001b[90m━━━━━━━━━━━━━━━━━━━━━━━━━━━━━━━━━━━━━━━━\u001b[0m \u001b[32m47.3/47.3 kB\u001b[0m \u001b[31m1.5 MB/s\u001b[0m eta \u001b[36m0:00:00\u001b[0m\n\u001b[?25hCollecting unsloth_zoo>=2025.8.1 (from unsloth)\n  Downloading unsloth_zoo-2025.8.1-py3-none-any.whl.metadata (8.1 kB)\nRequirement already satisfied: torch>=2.4.0 in /usr/local/lib/python3.11/dist-packages (from unsloth) (2.6.0+cu124)\nCollecting xformers>=0.0.27.post2 (from unsloth)\n  Downloading xformers-0.0.31.post1-cp39-abi3-manylinux_2_28_x86_64.whl.metadata (1.1 kB)\nCollecting bitsandbytes (from unsloth)\n  Downloading bitsandbytes-0.46.1-py3-none-manylinux_2_24_x86_64.whl.metadata (10 kB)\nRequirement already satisfied: triton>=3.0.0 in /usr/local/lib/python3.11/dist-packages (from unsloth) (3.2.0)\nRequirement already satisfied: packaging in /usr/local/lib/python3.11/dist-packages (from unsloth) (25.0)\nCollecting tyro (from unsloth)\n  Downloading tyro-0.9.27-py3-none-any.whl.metadata (11 kB)\nRequirement already satisfied: transformers!=4.47.0,!=4.52.0,!=4.52.1,!=4.52.2,!=4.52.3,!=4.53.0,>=4.51.3 in /usr/local/lib/python3.11/dist-packages (from unsloth) (4.52.4)\nRequirement already satisfied: datasets<4.0.0,>=3.4.1 in /usr/local/lib/python3.11/dist-packages (from unsloth) (3.6.0)\nRequirement already satisfied: sentencepiece>=0.2.0 in /usr/local/lib/python3.11/dist-packages (from unsloth) (0.2.0)\nRequirement already satisfied: tqdm in /usr/local/lib/python3.11/dist-packages (from unsloth) (4.67.1)\nRequirement already satisfied: psutil in /usr/local/lib/python3.11/dist-packages (from unsloth) (7.0.0)\nRequirement already satisfied: wheel>=0.42.0 in /usr/local/lib/python3.11/dist-packages (from unsloth) (0.45.1)\nRequirement already satisfied: numpy in /usr/local/lib/python3.11/dist-packages (from unsloth) (1.26.4)\nRequirement already satisfied: accelerate>=0.34.1 in /usr/local/lib/python3.11/dist-packages (from unsloth) (1.8.1)\nCollecting trl!=0.15.0,!=0.19.0,!=0.9.0,!=0.9.1,!=0.9.2,!=0.9.3,>=0.7.9 (from unsloth)\n  Downloading trl-0.21.0-py3-none-any.whl.metadata (11 kB)\nRequirement already satisfied: peft!=0.11.0,>=0.7.1 in /usr/local/lib/python3.11/dist-packages (from unsloth) (0.15.2)\nRequirement already satisfied: protobuf in /usr/local/lib/python3.11/dist-packages (from unsloth) (3.20.3)\nCollecting huggingface_hub>=0.34.0 (from unsloth)\n  Downloading huggingface_hub-0.34.3-py3-none-any.whl.metadata (14 kB)\nRequirement already satisfied: hf_transfer in /usr/local/lib/python3.11/dist-packages (from unsloth) (0.1.9)\nRequirement already satisfied: diffusers in /usr/local/lib/python3.11/dist-packages (from unsloth) (0.34.0)\nRequirement already satisfied: torchvision in /usr/local/lib/python3.11/dist-packages (from unsloth) (0.21.0+cu124)\nRequirement already satisfied: pyyaml in /usr/local/lib/python3.11/dist-packages (from accelerate>=0.34.1->unsloth) (6.0.2)\nRequirement already satisfied: safetensors>=0.4.3 in /usr/local/lib/python3.11/dist-packages (from accelerate>=0.34.1->unsloth) (0.5.3)\nRequirement already satisfied: filelock in /usr/local/lib/python3.11/dist-packages (from datasets<4.0.0,>=3.4.1->unsloth) (3.18.0)\nRequirement already satisfied: pyarrow>=15.0.0 in /usr/local/lib/python3.11/dist-packages (from datasets<4.0.0,>=3.4.1->unsloth) (19.0.1)\nRequirement already satisfied: dill<0.3.9,>=0.3.0 in /usr/local/lib/python3.11/dist-packages (from datasets<4.0.0,>=3.4.1->unsloth) (0.3.8)\nRequirement already satisfied: pandas in /usr/local/lib/python3.11/dist-packages (from datasets<4.0.0,>=3.4.1->unsloth) (2.2.3)\nRequirement already satisfied: requests>=2.32.2 in /usr/local/lib/python3.11/dist-packages (from datasets<4.0.0,>=3.4.1->unsloth) (2.32.4)\nRequirement already satisfied: xxhash in /usr/local/lib/python3.11/dist-packages (from datasets<4.0.0,>=3.4.1->unsloth) (3.5.0)\nRequirement already satisfied: multiprocess<0.70.17 in /usr/local/lib/python3.11/dist-packages (from datasets<4.0.0,>=3.4.1->unsloth) (0.70.16)\nCollecting fsspec<=2025.3.0,>=2023.1.0 (from fsspec[http]<=2025.3.0,>=2023.1.0->datasets<4.0.0,>=3.4.1->unsloth)\n  Downloading fsspec-2025.3.0-py3-none-any.whl.metadata (11 kB)\nRequirement already satisfied: typing-extensions>=3.7.4.3 in /usr/local/lib/python3.11/dist-packages (from huggingface_hub>=0.34.0->unsloth) (4.14.0)\nRequirement already satisfied: hf-xet<2.0.0,>=1.1.3 in /usr/local/lib/python3.11/dist-packages (from huggingface_hub>=0.34.0->unsloth) (1.1.5)\nRequirement already satisfied: mkl_fft in /usr/local/lib/python3.11/dist-packages (from numpy->unsloth) (1.3.8)\nRequirement already satisfied: mkl_random in /usr/local/lib/python3.11/dist-packages (from numpy->unsloth) (1.2.4)\nRequirement already satisfied: mkl_umath in /usr/local/lib/python3.11/dist-packages (from numpy->unsloth) (0.1.1)\nRequirement already satisfied: mkl in /usr/local/lib/python3.11/dist-packages (from numpy->unsloth) (2025.2.0)\nRequirement already satisfied: tbb4py in /usr/local/lib/python3.11/dist-packages (from numpy->unsloth) (2022.2.0)\nRequirement already satisfied: mkl-service in /usr/local/lib/python3.11/dist-packages (from numpy->unsloth) (2.4.1)\nRequirement already satisfied: networkx in /usr/local/lib/python3.11/dist-packages (from torch>=2.4.0->unsloth) (3.5)\nRequirement already satisfied: jinja2 in /usr/local/lib/python3.11/dist-packages (from torch>=2.4.0->unsloth) (3.1.6)\nCollecting nvidia-cuda-nvrtc-cu12==12.4.127 (from torch>=2.4.0->unsloth)\n  Downloading nvidia_cuda_nvrtc_cu12-12.4.127-py3-none-manylinux2014_x86_64.whl.metadata (1.5 kB)\nCollecting nvidia-cuda-runtime-cu12==12.4.127 (from torch>=2.4.0->unsloth)\n  Downloading nvidia_cuda_runtime_cu12-12.4.127-py3-none-manylinux2014_x86_64.whl.metadata (1.5 kB)\nCollecting nvidia-cuda-cupti-cu12==12.4.127 (from torch>=2.4.0->unsloth)\n  Downloading nvidia_cuda_cupti_cu12-12.4.127-py3-none-manylinux2014_x86_64.whl.metadata (1.6 kB)\nCollecting nvidia-cudnn-cu12==9.1.0.70 (from torch>=2.4.0->unsloth)\n  Downloading nvidia_cudnn_cu12-9.1.0.70-py3-none-manylinux2014_x86_64.whl.metadata (1.6 kB)\nCollecting nvidia-cublas-cu12==12.4.5.8 (from torch>=2.4.0->unsloth)\n  Downloading nvidia_cublas_cu12-12.4.5.8-py3-none-manylinux2014_x86_64.whl.metadata (1.5 kB)\nCollecting nvidia-cufft-cu12==11.2.1.3 (from torch>=2.4.0->unsloth)\n  Downloading nvidia_cufft_cu12-11.2.1.3-py3-none-manylinux2014_x86_64.whl.metadata (1.5 kB)\nCollecting nvidia-curand-cu12==10.3.5.147 (from torch>=2.4.0->unsloth)\n  Downloading nvidia_curand_cu12-10.3.5.147-py3-none-manylinux2014_x86_64.whl.metadata (1.5 kB)\nCollecting nvidia-cusolver-cu12==11.6.1.9 (from torch>=2.4.0->unsloth)\n  Downloading nvidia_cusolver_cu12-11.6.1.9-py3-none-manylinux2014_x86_64.whl.metadata (1.6 kB)\nCollecting nvidia-cusparse-cu12==12.3.1.170 (from torch>=2.4.0->unsloth)\n  Downloading nvidia_cusparse_cu12-12.3.1.170-py3-none-manylinux2014_x86_64.whl.metadata (1.6 kB)\nRequirement already satisfied: nvidia-cusparselt-cu12==0.6.2 in /usr/local/lib/python3.11/dist-packages (from torch>=2.4.0->unsloth) (0.6.2)\nRequirement already satisfied: nvidia-nccl-cu12==2.21.5 in /usr/local/lib/python3.11/dist-packages (from torch>=2.4.0->unsloth) (2.21.5)\nRequirement already satisfied: nvidia-nvtx-cu12==12.4.127 in /usr/local/lib/python3.11/dist-packages (from torch>=2.4.0->unsloth) (12.4.127)\nCollecting nvidia-nvjitlink-cu12==12.4.127 (from torch>=2.4.0->unsloth)\n  Downloading nvidia_nvjitlink_cu12-12.4.127-py3-none-manylinux2014_x86_64.whl.metadata (1.5 kB)\nRequirement already satisfied: sympy==1.13.1 in /usr/local/lib/python3.11/dist-packages (from torch>=2.4.0->unsloth) (1.13.1)\nRequirement already satisfied: mpmath<1.4,>=1.1.0 in /usr/local/lib/python3.11/dist-packages (from sympy==1.13.1->torch>=2.4.0->unsloth) (1.3.0)\nRequirement already satisfied: regex!=2019.12.17 in /usr/local/lib/python3.11/dist-packages (from transformers!=4.47.0,!=4.52.0,!=4.52.1,!=4.52.2,!=4.52.3,!=4.53.0,>=4.51.3->unsloth) (2024.11.6)\nRequirement already satisfied: tokenizers<0.22,>=0.21 in /usr/local/lib/python3.11/dist-packages (from transformers!=4.47.0,!=4.52.0,!=4.52.1,!=4.52.2,!=4.52.3,!=4.53.0,>=4.51.3->unsloth) (0.21.2)\nCollecting transformers!=4.47.0,!=4.52.0,!=4.52.1,!=4.52.2,!=4.52.3,!=4.53.0,>=4.51.3 (from unsloth)\n  Downloading transformers-4.55.0-py3-none-any.whl.metadata (39 kB)\nCollecting cut_cross_entropy (from unsloth_zoo>=2025.8.1->unsloth)\n  Downloading cut_cross_entropy-25.1.1-py3-none-any.whl.metadata (9.3 kB)\nRequirement already satisfied: pillow in /usr/local/lib/python3.11/dist-packages (from unsloth_zoo>=2025.8.1->unsloth) (11.2.1)\nCollecting msgspec (from unsloth_zoo>=2025.8.1->unsloth)\n  Downloading msgspec-0.19.0-cp311-cp311-manylinux_2_17_x86_64.manylinux2014_x86_64.whl.metadata (6.9 kB)\nCollecting torch>=2.4.0 (from unsloth)\n  Downloading torch-2.7.1-cp311-cp311-manylinux_2_28_x86_64.whl.metadata (29 kB)\nCollecting sympy>=1.13.3 (from torch>=2.4.0->unsloth)\n  Downloading sympy-1.14.0-py3-none-any.whl.metadata (12 kB)\nCollecting nvidia-cuda-nvrtc-cu12==12.6.77 (from torch>=2.4.0->unsloth)\n  Downloading nvidia_cuda_nvrtc_cu12-12.6.77-py3-none-manylinux2014_x86_64.whl.metadata (1.5 kB)\nCollecting nvidia-cuda-runtime-cu12==12.6.77 (from torch>=2.4.0->unsloth)\n  Downloading nvidia_cuda_runtime_cu12-12.6.77-py3-none-manylinux2014_x86_64.manylinux_2_17_x86_64.whl.metadata (1.5 kB)\nCollecting nvidia-cuda-cupti-cu12==12.6.80 (from torch>=2.4.0->unsloth)\n  Downloading nvidia_cuda_cupti_cu12-12.6.80-py3-none-manylinux2014_x86_64.manylinux_2_17_x86_64.whl.metadata (1.6 kB)\nCollecting nvidia-cudnn-cu12==9.5.1.17 (from torch>=2.4.0->unsloth)\n  Downloading nvidia_cudnn_cu12-9.5.1.17-py3-none-manylinux_2_28_x86_64.whl.metadata (1.6 kB)\nCollecting nvidia-cublas-cu12 (from nvidia-cudnn-cu12==9.1.0.70->torch>=2.4.0->unsloth)\n  Downloading nvidia_cublas_cu12-12.6.4.1-py3-none-manylinux2014_x86_64.manylinux_2_17_x86_64.whl.metadata (1.5 kB)\nCollecting nvidia-cufft-cu12==11.3.0.4 (from torch>=2.4.0->unsloth)\n  Downloading nvidia_cufft_cu12-11.3.0.4-py3-none-manylinux2014_x86_64.manylinux_2_17_x86_64.whl.metadata (1.5 kB)\nCollecting nvidia-curand-cu12==10.3.7.77 (from torch>=2.4.0->unsloth)\n  Downloading nvidia_curand_cu12-10.3.7.77-py3-none-manylinux2014_x86_64.manylinux_2_17_x86_64.whl.metadata (1.5 kB)\nCollecting nvidia-cusolver-cu12==11.7.1.2 (from torch>=2.4.0->unsloth)\n  Downloading nvidia_cusolver_cu12-11.7.1.2-py3-none-manylinux2014_x86_64.manylinux_2_17_x86_64.whl.metadata (1.6 kB)\nCollecting nvidia-cusparse-cu12 (from nvidia-cusolver-cu12==11.6.1.9->torch>=2.4.0->unsloth)\n  Downloading nvidia_cusparse_cu12-12.5.4.2-py3-none-manylinux2014_x86_64.manylinux_2_17_x86_64.whl.metadata (1.6 kB)\nCollecting nvidia-cusparselt-cu12==0.6.3 (from torch>=2.4.0->unsloth)\n  Downloading nvidia_cusparselt_cu12-0.6.3-py3-none-manylinux2014_x86_64.whl.metadata (6.8 kB)\nCollecting nvidia-nccl-cu12==2.26.2 (from torch>=2.4.0->unsloth)\n  Downloading nvidia_nccl_cu12-2.26.2-py3-none-manylinux2014_x86_64.manylinux_2_17_x86_64.whl.metadata (2.0 kB)\nCollecting nvidia-nvtx-cu12==12.6.77 (from torch>=2.4.0->unsloth)\n  Downloading nvidia_nvtx_cu12-12.6.77-py3-none-manylinux2014_x86_64.manylinux_2_17_x86_64.whl.metadata (1.6 kB)\nCollecting nvidia-nvjitlink-cu12 (from nvidia-cusolver-cu12==11.6.1.9->torch>=2.4.0->unsloth)\n  Downloading nvidia_nvjitlink_cu12-12.6.85-py3-none-manylinux2010_x86_64.manylinux_2_12_x86_64.whl.metadata (1.5 kB)\nCollecting nvidia-cufile-cu12==1.11.1.6 (from torch>=2.4.0->unsloth)\n  Downloading nvidia_cufile_cu12-1.11.1.6-py3-none-manylinux2014_x86_64.manylinux_2_17_x86_64.whl.metadata (1.5 kB)\nCollecting triton>=3.0.0 (from unsloth)\n  Downloading triton-3.3.1-cp311-cp311-manylinux_2_27_x86_64.manylinux_2_28_x86_64.whl.metadata (1.5 kB)\nRequirement already satisfied: setuptools>=40.8.0 in /usr/local/lib/python3.11/dist-packages (from triton>=3.0.0->unsloth) (75.2.0)\nRequirement already satisfied: importlib_metadata in /usr/local/lib/python3.11/dist-packages (from diffusers->unsloth) (8.7.0)\nINFO: pip is looking at multiple versions of torchvision to determine which version is compatible with other requirements. This could take a while.\nCollecting torchvision (from unsloth)\n  Downloading torchvision-0.22.1-cp311-cp311-manylinux_2_28_x86_64.whl.metadata (6.1 kB)\nRequirement already satisfied: docstring-parser>=0.15 in /usr/local/lib/python3.11/dist-packages (from tyro->unsloth) (0.16)\nRequirement already satisfied: rich>=11.1.0 in /usr/local/lib/python3.11/dist-packages (from tyro->unsloth) (14.0.0)\nCollecting shtab>=1.5.6 (from tyro->unsloth)\n  Downloading shtab-1.7.2-py3-none-any.whl.metadata (7.4 kB)\nRequirement already satisfied: typeguard>=4.0.0 in /usr/local/lib/python3.11/dist-packages (from tyro->unsloth) (4.4.4)\nRequirement already satisfied: aiohttp!=4.0.0a0,!=4.0.0a1 in /usr/local/lib/python3.11/dist-packages (from fsspec[http]<=2025.3.0,>=2023.1.0->datasets<4.0.0,>=3.4.1->unsloth) (3.12.13)\nRequirement already satisfied: charset_normalizer<4,>=2 in /usr/local/lib/python3.11/dist-packages (from requests>=2.32.2->datasets<4.0.0,>=3.4.1->unsloth) (3.4.2)\nRequirement already satisfied: idna<4,>=2.5 in /usr/local/lib/python3.11/dist-packages (from requests>=2.32.2->datasets<4.0.0,>=3.4.1->unsloth) (3.10)\nRequirement already satisfied: urllib3<3,>=1.21.1 in /usr/local/lib/python3.11/dist-packages (from requests>=2.32.2->datasets<4.0.0,>=3.4.1->unsloth) (2.5.0)\nRequirement already satisfied: certifi>=2017.4.17 in /usr/local/lib/python3.11/dist-packages (from requests>=2.32.2->datasets<4.0.0,>=3.4.1->unsloth) (2025.6.15)\nRequirement already satisfied: markdown-it-py>=2.2.0 in /usr/local/lib/python3.11/dist-packages (from rich>=11.1.0->tyro->unsloth) (3.0.0)\nRequirement already satisfied: pygments<3.0.0,>=2.13.0 in /usr/local/lib/python3.11/dist-packages (from rich>=11.1.0->tyro->unsloth) (2.19.2)\nRequirement already satisfied: zipp>=3.20 in /usr/local/lib/python3.11/dist-packages (from importlib_metadata->diffusers->unsloth) (3.23.0)\nRequirement already satisfied: MarkupSafe>=2.0 in /usr/local/lib/python3.11/dist-packages (from jinja2->torch>=2.4.0->unsloth) (3.0.2)\nRequirement already satisfied: intel-openmp<2026,>=2024 in /usr/local/lib/python3.11/dist-packages (from mkl->numpy->unsloth) (2024.2.0)\nRequirement already satisfied: tbb==2022.* in /usr/local/lib/python3.11/dist-packages (from mkl->numpy->unsloth) (2022.2.0)\nRequirement already satisfied: tcmlib==1.* in /usr/local/lib/python3.11/dist-packages (from tbb==2022.*->mkl->numpy->unsloth) (1.4.0)\nRequirement already satisfied: intel-cmplr-lib-rt in /usr/local/lib/python3.11/dist-packages (from mkl_umath->numpy->unsloth) (2024.2.0)\nRequirement already satisfied: python-dateutil>=2.8.2 in /usr/local/lib/python3.11/dist-packages (from pandas->datasets<4.0.0,>=3.4.1->unsloth) (2.9.0.post0)\nRequirement already satisfied: pytz>=2020.1 in /usr/local/lib/python3.11/dist-packages (from pandas->datasets<4.0.0,>=3.4.1->unsloth) (2025.2)\nRequirement already satisfied: tzdata>=2022.7 in /usr/local/lib/python3.11/dist-packages (from pandas->datasets<4.0.0,>=3.4.1->unsloth) (2025.2)\nRequirement already satisfied: aiohappyeyeballs>=2.5.0 in /usr/local/lib/python3.11/dist-packages (from aiohttp!=4.0.0a0,!=4.0.0a1->fsspec[http]<=2025.3.0,>=2023.1.0->datasets<4.0.0,>=3.4.1->unsloth) (2.6.1)\nRequirement already satisfied: aiosignal>=1.1.2 in /usr/local/lib/python3.11/dist-packages (from aiohttp!=4.0.0a0,!=4.0.0a1->fsspec[http]<=2025.3.0,>=2023.1.0->datasets<4.0.0,>=3.4.1->unsloth) (1.3.2)\nRequirement already satisfied: attrs>=17.3.0 in /usr/local/lib/python3.11/dist-packages (from aiohttp!=4.0.0a0,!=4.0.0a1->fsspec[http]<=2025.3.0,>=2023.1.0->datasets<4.0.0,>=3.4.1->unsloth) (25.3.0)\nRequirement already satisfied: frozenlist>=1.1.1 in /usr/local/lib/python3.11/dist-packages (from aiohttp!=4.0.0a0,!=4.0.0a1->fsspec[http]<=2025.3.0,>=2023.1.0->datasets<4.0.0,>=3.4.1->unsloth) (1.7.0)\nRequirement already satisfied: multidict<7.0,>=4.5 in /usr/local/lib/python3.11/dist-packages (from aiohttp!=4.0.0a0,!=4.0.0a1->fsspec[http]<=2025.3.0,>=2023.1.0->datasets<4.0.0,>=3.4.1->unsloth) (6.6.3)\nRequirement already satisfied: propcache>=0.2.0 in /usr/local/lib/python3.11/dist-packages (from aiohttp!=4.0.0a0,!=4.0.0a1->fsspec[http]<=2025.3.0,>=2023.1.0->datasets<4.0.0,>=3.4.1->unsloth) (0.3.2)\nRequirement already satisfied: yarl<2.0,>=1.17.0 in /usr/local/lib/python3.11/dist-packages (from aiohttp!=4.0.0a0,!=4.0.0a1->fsspec[http]<=2025.3.0,>=2023.1.0->datasets<4.0.0,>=3.4.1->unsloth) (1.20.1)\nRequirement already satisfied: intel-cmplr-lib-ur==2024.2.0 in /usr/local/lib/python3.11/dist-packages (from intel-openmp<2026,>=2024->mkl->numpy->unsloth) (2024.2.0)\nRequirement already satisfied: mdurl~=0.1 in /usr/local/lib/python3.11/dist-packages (from markdown-it-py>=2.2.0->rich>=11.1.0->tyro->unsloth) (0.1.2)\nRequirement already satisfied: six>=1.5 in /usr/local/lib/python3.11/dist-packages (from python-dateutil>=2.8.2->pandas->datasets<4.0.0,>=3.4.1->unsloth) (1.17.0)\nDownloading unsloth-2025.8.1-py3-none-any.whl (299 kB)\n\u001b[2K   \u001b[90m━━━━━━━━━━━━━━━━━━━━━━━━━━━━━━━━━━━━━━━━\u001b[0m \u001b[32m299.8/299.8 kB\u001b[0m \u001b[31m8.3 MB/s\u001b[0m eta \u001b[36m0:00:00\u001b[0m:00:01\u001b[0m\n\u001b[?25hDownloading huggingface_hub-0.34.3-py3-none-any.whl (558 kB)\n\u001b[2K   \u001b[90m━━━━━━━━━━━━━━━━━━━━━━━━━━━━━━━━━━━━━━━━\u001b[0m \u001b[32m558.8/558.8 kB\u001b[0m \u001b[31m16.7 MB/s\u001b[0m eta \u001b[36m0:00:00\u001b[0m\n\u001b[?25hDownloading trl-0.21.0-py3-none-any.whl (511 kB)\n\u001b[2K   \u001b[90m━━━━━━━━━━━━━━━━━━━━━━━━━━━━━━━━━━━━━━━━\u001b[0m \u001b[32m511.9/511.9 kB\u001b[0m \u001b[31m15.6 MB/s\u001b[0m eta \u001b[36m0:00:00\u001b[0m\n\u001b[?25hDownloading transformers-4.55.0-py3-none-any.whl (11.3 MB)\n\u001b[2K   \u001b[90m━━━━━━━━━━━━━━━━━━━━━━━━━━━━━━━━━━━━━━━━\u001b[0m \u001b[32m11.3/11.3 MB\u001b[0m \u001b[31m23.6 MB/s\u001b[0m eta \u001b[36m0:00:00\u001b[0m00:01\u001b[0m00:01\u001b[0m\n\u001b[?25hDownloading unsloth_zoo-2025.8.1-py3-none-any.whl (166 kB)\n\u001b[2K   \u001b[90m━━━━━━━━━━━━━━━━━━━━━━━━━━━━━━━━━━━━━━━━\u001b[0m \u001b[32m166.7/166.7 kB\u001b[0m \u001b[31m8.9 MB/s\u001b[0m eta \u001b[36m0:00:00\u001b[0m\n\u001b[?25hDownloading xformers-0.0.31.post1-cp39-abi3-manylinux_2_28_x86_64.whl (117.1 MB)\n\u001b[2K   \u001b[90m━━━━━━━━━━━━━━━━━━━━━━━━━━━━━━━━━━━━━━━━\u001b[0m \u001b[32m117.1/117.1 MB\u001b[0m \u001b[31m9.7 MB/s\u001b[0m eta \u001b[36m0:00:00\u001b[0m:00:01\u001b[0m00:01\u001b[0m\n\u001b[?25hDownloading torch-2.7.1-cp311-cp311-manylinux_2_28_x86_64.whl (821.2 MB)\n\u001b[2K   \u001b[90m━━━━━━━━━━━━━━━━━━━━━━━━━━━━━━━━━━━━━━━\u001b[0m \u001b[32m821.2/821.2 MB\u001b[0m \u001b[31m833.0 kB/s\u001b[0m eta \u001b[36m0:00:00\u001b[0m00:01\u001b[0m00:01\u001b[0m\n\u001b[?25hDownloading triton-3.3.1-cp311-cp311-manylinux_2_27_x86_64.manylinux_2_28_x86_64.whl (155.7 MB)\n\u001b[2K   \u001b[90m━━━━━━━━━━━━━━━━━━━━━━━━━━━━━━━━━━━━━━━━\u001b[0m \u001b[32m155.7/155.7 MB\u001b[0m \u001b[31m9.0 MB/s\u001b[0m eta \u001b[36m0:00:00\u001b[0m:00:01\u001b[0m00:01\u001b[0m\n\u001b[?25hDownloading nvidia_cublas_cu12-12.6.4.1-py3-none-manylinux2014_x86_64.manylinux_2_17_x86_64.whl (393.1 MB)\n\u001b[2K   \u001b[90m━━━━━━━━━━━━━━━━━━━━━━━━━━━━━━━━━━━━━━━━\u001b[0m \u001b[32m393.1/393.1 MB\u001b[0m \u001b[31m4.3 MB/s\u001b[0m eta \u001b[36m0:00:00\u001b[0m:00:01\u001b[0m00:01\u001b[0m\n\u001b[?25hDownloading nvidia_cuda_cupti_cu12-12.6.80-py3-none-manylinux2014_x86_64.manylinux_2_17_x86_64.whl (8.9 MB)\n\u001b[2K   \u001b[90m━━━━━━━━━━━━━━━━━━━━━━━━━━━━━━━━━━━━━━━━\u001b[0m \u001b[32m8.9/8.9 MB\u001b[0m \u001b[31m47.9 MB/s\u001b[0m eta \u001b[36m0:00:00\u001b[0m00:01\u001b[0m00:01\u001b[0m\n\u001b[?25hDownloading nvidia_cuda_nvrtc_cu12-12.6.77-py3-none-manylinux2014_x86_64.whl (23.7 MB)\n\u001b[2K   \u001b[90m━━━━━━━━━━━━━━━━━━━━━━━━━━━━━━━━━━━━━━━━\u001b[0m \u001b[32m23.7/23.7 MB\u001b[0m \u001b[31m43.5 MB/s\u001b[0m eta \u001b[36m0:00:00\u001b[0m00:01\u001b[0m00:01\u001b[0m\n\u001b[?25hDownloading nvidia_cuda_runtime_cu12-12.6.77-py3-none-manylinux2014_x86_64.manylinux_2_17_x86_64.whl (897 kB)\n\u001b[2K   \u001b[90m━━━━━━━━━━━━━━━━━━━━━━━━━━━━━━━━━━━━━━━━\u001b[0m \u001b[32m897.7/897.7 kB\u001b[0m \u001b[31m25.6 MB/s\u001b[0m eta \u001b[36m0:00:00\u001b[0m00:01\u001b[0m\n\u001b[?25hDownloading nvidia_cudnn_cu12-9.5.1.17-py3-none-manylinux_2_28_x86_64.whl (571.0 MB)\n\u001b[2K   \u001b[90m━━━━━━━━━━━━━━━━━━━━━━━━━━━━━━━━━━━━━━━━\u001b[0m \u001b[32m571.0/571.0 MB\u001b[0m \u001b[31m2.7 MB/s\u001b[0m eta \u001b[36m0:00:00\u001b[0m:00:01\u001b[0m00:01\u001b[0m\n\u001b[?25hDownloading nvidia_cufft_cu12-11.3.0.4-py3-none-manylinux2014_x86_64.manylinux_2_17_x86_64.whl (200.2 MB)\n\u001b[2K   \u001b[90m━━━━━━━━━━━━━━━━━━━━━━━━━━━━━━━━━━━━━━━━\u001b[0m \u001b[32m200.2/200.2 MB\u001b[0m \u001b[31m7.5 MB/s\u001b[0m eta \u001b[36m0:00:00\u001b[0m:00:01\u001b[0m00:01\u001b[0m\n\u001b[?25hDownloading nvidia_cufile_cu12-1.11.1.6-py3-none-manylinux2014_x86_64.manylinux_2_17_x86_64.whl (1.1 MB)\n\u001b[2K   \u001b[90m━━━━━━━━━━━━━━━━━━━━━━━━━━━━━━━━━━━━━━━━\u001b[0m \u001b[32m1.1/1.1 MB\u001b[0m \u001b[31m27.0 MB/s\u001b[0m eta \u001b[36m0:00:00\u001b[0m00:01\u001b[0m\n\u001b[?25hDownloading nvidia_curand_cu12-10.3.7.77-py3-none-manylinux2014_x86_64.manylinux_2_17_x86_64.whl (56.3 MB)\n\u001b[2K   \u001b[90m━━━━━━━━━━━━━━━━━━━━━━━━━━━━━━━━━━━━━━━━\u001b[0m \u001b[32m56.3/56.3 MB\u001b[0m \u001b[31m5.1 MB/s\u001b[0m eta \u001b[36m0:00:00\u001b[0m:00:01\u001b[0m00:01\u001b[0m\n\u001b[?25hDownloading nvidia_cusolver_cu12-11.7.1.2-py3-none-manylinux2014_x86_64.manylinux_2_17_x86_64.whl (158.2 MB)\n\u001b[2K   \u001b[90m━━━━━━━━━━━━━━━━━━━━━━━━━━━━━━━━━━━━━━━━\u001b[0m \u001b[32m158.2/158.2 MB\u001b[0m \u001b[31m9.2 MB/s\u001b[0m eta \u001b[36m0:00:00\u001b[0m:00:01\u001b[0m00:01\u001b[0m\n\u001b[?25hDownloading nvidia_cusparse_cu12-12.5.4.2-py3-none-manylinux2014_x86_64.manylinux_2_17_x86_64.whl (216.6 MB)\n\u001b[2K   \u001b[90m━━━━━━━━━━━━━━━━━━━━━━━━━━━━━━━━━━━━━━━━\u001b[0m \u001b[32m216.6/216.6 MB\u001b[0m \u001b[31m2.7 MB/s\u001b[0m eta \u001b[36m0:00:00\u001b[0m:00:01\u001b[0m00:01\u001b[0m\n\u001b[?25hDownloading nvidia_cusparselt_cu12-0.6.3-py3-none-manylinux2014_x86_64.whl (156.8 MB)\n\u001b[2K   \u001b[90m━━━━━━━━━━━━━━━━━━━━━━━━━━━━━━━━━━━━━━━━\u001b[0m \u001b[32m156.8/156.8 MB\u001b[0m \u001b[31m10.1 MB/s\u001b[0m eta \u001b[36m0:00:00\u001b[0m00:01\u001b[0m00:01\u001b[0m\n\u001b[?25hDownloading nvidia_nccl_cu12-2.26.2-py3-none-manylinux2014_x86_64.manylinux_2_17_x86_64.whl (201.3 MB)\n\u001b[2K   \u001b[90m━━━━━━━━━━━━━━━━━━━━━━━━━━━━━━━━━━━━━━━━\u001b[0m \u001b[32m201.3/201.3 MB\u001b[0m \u001b[31m8.1 MB/s\u001b[0m eta \u001b[36m0:00:00\u001b[0m:00:01\u001b[0m00:01\u001b[0m\n\u001b[?25hDownloading nvidia_nvjitlink_cu12-12.6.85-py3-none-manylinux2010_x86_64.manylinux_2_12_x86_64.whl (19.7 MB)\n\u001b[2K   \u001b[90m━━━━━━━━━━━━━━━━━━━━━━━━━━━━━━━━━━━━━━━━\u001b[0m \u001b[32m19.7/19.7 MB\u001b[0m \u001b[31m61.5 MB/s\u001b[0m eta \u001b[36m0:00:00\u001b[0m:00:01\u001b[0m00:01\u001b[0m\n\u001b[?25hDownloading nvidia_nvtx_cu12-12.6.77-py3-none-manylinux2014_x86_64.manylinux_2_17_x86_64.whl (89 kB)\n\u001b[2K   \u001b[90m━━━━━━━━━━━━━━━━━━━━━━━━━━━━━━━━━━━━━━━━\u001b[0m \u001b[32m89.3/89.3 kB\u001b[0m \u001b[31m4.8 MB/s\u001b[0m eta \u001b[36m0:00:00\u001b[0m\n\u001b[?25hDownloading bitsandbytes-0.46.1-py3-none-manylinux_2_24_x86_64.whl (72.9 MB)\n\u001b[2K   \u001b[90m━━━━━━━━━━━━━━━━━━━━━━━━━━━━━━━━━━━━━━━━\u001b[0m \u001b[32m72.9/72.9 MB\u001b[0m \u001b[31m21.4 MB/s\u001b[0m eta \u001b[36m0:00:00\u001b[0m:00:01\u001b[0m00:01\u001b[0m\n\u001b[?25hDownloading torchvision-0.22.1-cp311-cp311-manylinux_2_28_x86_64.whl (7.5 MB)\n\u001b[2K   \u001b[90m━━━━━━━━━━━━━━━━━━━━━━━━━━━━━━━━━━━━━━━━\u001b[0m \u001b[32m7.5/7.5 MB\u001b[0m \u001b[31m70.6 MB/s\u001b[0m eta \u001b[36m0:00:00\u001b[0m:00:01\u001b[0m00:01\u001b[0m\n\u001b[?25hDownloading tyro-0.9.27-py3-none-any.whl (129 kB)\n\u001b[2K   \u001b[90m━━━━━━━━━━━━━━━━━━━━━━━━━━━━━━━━━━━━━━━━\u001b[0m \u001b[32m129.0/129.0 kB\u001b[0m \u001b[31m6.4 MB/s\u001b[0m eta \u001b[36m0:00:00\u001b[0m\n\u001b[?25hDownloading fsspec-2025.3.0-py3-none-any.whl (193 kB)\n\u001b[2K   \u001b[90m━━━━━━━━━━━━━━━━━━━━━━━━━━━━━━━━━━━━━━━━\u001b[0m \u001b[32m193.6/193.6 kB\u001b[0m \u001b[31m12.1 MB/s\u001b[0m eta \u001b[36m0:00:00\u001b[0m\n\u001b[?25hDownloading shtab-1.7.2-py3-none-any.whl (14 kB)\nDownloading sympy-1.14.0-py3-none-any.whl (6.3 MB)\n\u001b[2K   \u001b[90m━━━━━━━━━━━━━━━━━━━━━━━━━━━━━━━━━━━━━━━━\u001b[0m \u001b[32m6.3/6.3 MB\u001b[0m \u001b[31m68.7 MB/s\u001b[0m eta \u001b[36m0:00:00\u001b[0m:00:01\u001b[0m00:01\u001b[0m\n\u001b[?25hDownloading cut_cross_entropy-25.1.1-py3-none-any.whl (22 kB)\nDownloading msgspec-0.19.0-cp311-cp311-manylinux_2_17_x86_64.manylinux2014_x86_64.whl (210 kB)\n\u001b[2K   \u001b[90m━━━━━━━━━━━━━━━━━━━━━━━━━━━━━━━━━━━━━━━━\u001b[0m \u001b[32m210.7/210.7 kB\u001b[0m \u001b[31m10.3 MB/s\u001b[0m eta \u001b[36m0:00:00\u001b[0m\n\u001b[?25hInstalling collected packages: nvidia-cusparselt-cu12, triton, sympy, shtab, nvidia-nvtx-cu12, nvidia-nvjitlink-cu12, nvidia-nccl-cu12, nvidia-curand-cu12, nvidia-cufile-cu12, nvidia-cuda-runtime-cu12, nvidia-cuda-nvrtc-cu12, nvidia-cuda-cupti-cu12, nvidia-cublas-cu12, msgspec, fsspec, nvidia-cusparse-cu12, nvidia-cufft-cu12, nvidia-cudnn-cu12, huggingface_hub, tyro, nvidia-cusolver-cu12, torch, cut_cross_entropy, transformers, trl, xformers, unsloth_zoo, torchvision, bitsandbytes, unsloth\n  Attempting uninstall: nvidia-cusparselt-cu12\n    Found existing installation: nvidia-cusparselt-cu12 0.6.2\n    Uninstalling nvidia-cusparselt-cu12-0.6.2:\n      Successfully uninstalled nvidia-cusparselt-cu12-0.6.2\n  Attempting uninstall: triton\n    Found existing installation: triton 3.2.0\n    Uninstalling triton-3.2.0:\n      Successfully uninstalled triton-3.2.0\n  Attempting uninstall: sympy\n    Found existing installation: sympy 1.13.1\n    Uninstalling sympy-1.13.1:\n      Successfully uninstalled sympy-1.13.1\n  Attempting uninstall: nvidia-nvtx-cu12\n    Found existing installation: nvidia-nvtx-cu12 12.4.127\n    Uninstalling nvidia-nvtx-cu12-12.4.127:\n      Successfully uninstalled nvidia-nvtx-cu12-12.4.127\n  Attempting uninstall: nvidia-nvjitlink-cu12\n    Found existing installation: nvidia-nvjitlink-cu12 12.5.82\n    Uninstalling nvidia-nvjitlink-cu12-12.5.82:\n      Successfully uninstalled nvidia-nvjitlink-cu12-12.5.82\n  Attempting uninstall: nvidia-nccl-cu12\n    Found existing installation: nvidia-nccl-cu12 2.21.5\n    Uninstalling nvidia-nccl-cu12-2.21.5:\n      Successfully uninstalled nvidia-nccl-cu12-2.21.5\n  Attempting uninstall: nvidia-curand-cu12\n    Found existing installation: nvidia-curand-cu12 10.3.6.82\n    Uninstalling nvidia-curand-cu12-10.3.6.82:\n      Successfully uninstalled nvidia-curand-cu12-10.3.6.82\n  Attempting uninstall: nvidia-cuda-runtime-cu12\n    Found existing installation: nvidia-cuda-runtime-cu12 12.5.82\n    Uninstalling nvidia-cuda-runtime-cu12-12.5.82:\n      Successfully uninstalled nvidia-cuda-runtime-cu12-12.5.82\n  Attempting uninstall: nvidia-cuda-nvrtc-cu12\n    Found existing installation: nvidia-cuda-nvrtc-cu12 12.5.82\n    Uninstalling nvidia-cuda-nvrtc-cu12-12.5.82:\n      Successfully uninstalled nvidia-cuda-nvrtc-cu12-12.5.82\n  Attempting uninstall: nvidia-cuda-cupti-cu12\n    Found existing installation: nvidia-cuda-cupti-cu12 12.5.82\n    Uninstalling nvidia-cuda-cupti-cu12-12.5.82:\n      Successfully uninstalled nvidia-cuda-cupti-cu12-12.5.82\n  Attempting uninstall: nvidia-cublas-cu12\n    Found existing installation: nvidia-cublas-cu12 12.5.3.2\n    Uninstalling nvidia-cublas-cu12-12.5.3.2:\n      Successfully uninstalled nvidia-cublas-cu12-12.5.3.2\n  Attempting uninstall: fsspec\n    Found existing installation: fsspec 2025.5.1\n    Uninstalling fsspec-2025.5.1:\n      Successfully uninstalled fsspec-2025.5.1\n  Attempting uninstall: nvidia-cusparse-cu12\n    Found existing installation: nvidia-cusparse-cu12 12.5.1.3\n    Uninstalling nvidia-cusparse-cu12-12.5.1.3:\n      Successfully uninstalled nvidia-cusparse-cu12-12.5.1.3\n  Attempting uninstall: nvidia-cufft-cu12\n    Found existing installation: nvidia-cufft-cu12 11.2.3.61\n    Uninstalling nvidia-cufft-cu12-11.2.3.61:\n      Successfully uninstalled nvidia-cufft-cu12-11.2.3.61\n  Attempting uninstall: nvidia-cudnn-cu12\n    Found existing installation: nvidia-cudnn-cu12 9.3.0.75\n    Uninstalling nvidia-cudnn-cu12-9.3.0.75:\n      Successfully uninstalled nvidia-cudnn-cu12-9.3.0.75\n  Attempting uninstall: huggingface_hub\n    Found existing installation: huggingface-hub 0.33.1\n    Uninstalling huggingface-hub-0.33.1:\n      Successfully uninstalled huggingface-hub-0.33.1\n  Attempting uninstall: nvidia-cusolver-cu12\n    Found existing installation: nvidia-cusolver-cu12 11.6.3.83\n    Uninstalling nvidia-cusolver-cu12-11.6.3.83:\n      Successfully uninstalled nvidia-cusolver-cu12-11.6.3.83\n  Attempting uninstall: torch\n    Found existing installation: torch 2.6.0+cu124\n    Uninstalling torch-2.6.0+cu124:\n      Successfully uninstalled torch-2.6.0+cu124\n  Attempting uninstall: transformers\n    Found existing installation: transformers 4.52.4\n    Uninstalling transformers-4.52.4:\n      Successfully uninstalled transformers-4.52.4\n  Attempting uninstall: torchvision\n    Found existing installation: torchvision 0.21.0+cu124\n    Uninstalling torchvision-0.21.0+cu124:\n      Successfully uninstalled torchvision-0.21.0+cu124\n\u001b[31mERROR: pip's dependency resolver does not currently take into account all the packages that are installed. This behaviour is the source of the following dependency conflicts.\nbigframes 2.8.0 requires google-cloud-bigquery-storage<3.0.0,>=2.30.0, which is not installed.\ncesium 0.12.4 requires numpy<3.0,>=2.0, but you have numpy 1.26.4 which is incompatible.\ntorchaudio 2.6.0+cu124 requires torch==2.6.0, but you have torch 2.7.1 which is incompatible.\ngcsfs 2025.3.2 requires fsspec==2025.3.2, but you have fsspec 2025.3.0 which is incompatible.\nfastai 2.7.19 requires torch<2.7,>=1.10, but you have torch 2.7.1 which is incompatible.\nbigframes 2.8.0 requires google-cloud-bigquery[bqstorage,pandas]>=3.31.0, but you have google-cloud-bigquery 3.25.0 which is incompatible.\nbigframes 2.8.0 requires rich<14,>=12.4.4, but you have rich 14.0.0 which is incompatible.\u001b[0m\u001b[31m\n\u001b[0mSuccessfully installed bitsandbytes-0.46.1 cut_cross_entropy-25.1.1 fsspec-2025.3.0 huggingface_hub-0.34.3 msgspec-0.19.0 nvidia-cublas-cu12-12.6.4.1 nvidia-cuda-cupti-cu12-12.6.80 nvidia-cuda-nvrtc-cu12-12.6.77 nvidia-cuda-runtime-cu12-12.6.77 nvidia-cudnn-cu12-9.5.1.17 nvidia-cufft-cu12-11.3.0.4 nvidia-cufile-cu12-1.11.1.6 nvidia-curand-cu12-10.3.7.77 nvidia-cusolver-cu12-11.7.1.2 nvidia-cusparse-cu12-12.5.4.2 nvidia-cusparselt-cu12-0.6.3 nvidia-nccl-cu12-2.26.2 nvidia-nvjitlink-cu12-12.6.85 nvidia-nvtx-cu12-12.6.77 shtab-1.7.2 sympy-1.14.0 torch-2.7.1 torchvision-0.22.1 transformers-4.55.0 triton-3.3.1 trl-0.21.0 tyro-0.9.27 unsloth-2025.8.1 unsloth_zoo-2025.8.1 xformers-0.0.31.post1\n",
          "output_type": "stream"
        }
      ],
      "execution_count": null
    },
    {
      "id": "297ad34e",
      "cell_type": "code",
      "source": [
        "%%capture\n",
        "# Install latest transformers for Gemma 3N\n",
        "!pip install --no-deps git+https://github.com/huggingface/transformers.git # Only for Gemma 3N\n",
        "!pip install --no-deps --upgrade timm # Only for Gemma 3N"
      ],
      "metadata": {
        "execution": {
          "iopub.status.busy": "2025-08-05T23:06:20.704954Z",
          "iopub.execute_input": "2025-08-05T23:06:20.705265Z",
          "iopub.status.idle": "2025-08-05T23:06:56.572174Z",
          "shell.execute_reply.started": "2025-08-05T23:06:20.705218Z",
          "shell.execute_reply": "2025-08-05T23:06:56.571391Z"
        },
        "papermill": {
          "duration": 37.976386,
          "end_time": "2025-07-29T04:24:23.062811",
          "exception": false,
          "start_time": "2025-07-29T04:23:45.086425",
          "status": "completed"
        },
        "tags": [],
        "trusted": true,
        "id": "297ad34e"
      },
      "outputs": [],
      "execution_count": null
    },
    {
      "id": "b5aa5ad1",
      "cell_type": "code",
      "source": [
        "!pip install huggingface-hub==0.34.0\n",
        "!pip install --upgrade transformers\n"
      ],
      "metadata": {
        "execution": {
          "iopub.status.busy": "2025-08-05T23:06:56.574681Z",
          "iopub.execute_input": "2025-08-05T23:06:56.574912Z",
          "iopub.status.idle": "2025-08-05T23:07:03.714435Z",
          "shell.execute_reply.started": "2025-08-05T23:06:56.574889Z",
          "shell.execute_reply": "2025-08-05T23:07:03.713687Z"
        },
        "papermill": {
          "duration": 9.138518,
          "end_time": "2025-07-29T04:24:32.261426",
          "exception": false,
          "start_time": "2025-07-29T04:24:23.122908",
          "status": "completed"
        },
        "tags": [],
        "trusted": true,
        "id": "b5aa5ad1",
        "outputId": "afee99e2-26ef-48c8-b230-4bb13753ef55"
      },
      "outputs": [
        {
          "name": "stdout",
          "text": "Collecting huggingface-hub==0.34.0\n  Downloading huggingface_hub-0.34.0-py3-none-any.whl.metadata (14 kB)\nRequirement already satisfied: filelock in /usr/local/lib/python3.11/dist-packages (from huggingface-hub==0.34.0) (3.18.0)\nRequirement already satisfied: fsspec>=2023.5.0 in /usr/local/lib/python3.11/dist-packages (from huggingface-hub==0.34.0) (2025.3.0)\nRequirement already satisfied: packaging>=20.9 in /usr/local/lib/python3.11/dist-packages (from huggingface-hub==0.34.0) (25.0)\nRequirement already satisfied: pyyaml>=5.1 in /usr/local/lib/python3.11/dist-packages (from huggingface-hub==0.34.0) (6.0.2)\nRequirement already satisfied: requests in /usr/local/lib/python3.11/dist-packages (from huggingface-hub==0.34.0) (2.32.4)\nRequirement already satisfied: tqdm>=4.42.1 in /usr/local/lib/python3.11/dist-packages (from huggingface-hub==0.34.0) (4.67.1)\nRequirement already satisfied: typing-extensions>=3.7.4.3 in /usr/local/lib/python3.11/dist-packages (from huggingface-hub==0.34.0) (4.14.0)\nRequirement already satisfied: hf-xet<2.0.0,>=1.1.3 in /usr/local/lib/python3.11/dist-packages (from huggingface-hub==0.34.0) (1.1.5)\nRequirement already satisfied: charset_normalizer<4,>=2 in /usr/local/lib/python3.11/dist-packages (from requests->huggingface-hub==0.34.0) (3.4.2)\nRequirement already satisfied: idna<4,>=2.5 in /usr/local/lib/python3.11/dist-packages (from requests->huggingface-hub==0.34.0) (3.10)\nRequirement already satisfied: urllib3<3,>=1.21.1 in /usr/local/lib/python3.11/dist-packages (from requests->huggingface-hub==0.34.0) (2.5.0)\nRequirement already satisfied: certifi>=2017.4.17 in /usr/local/lib/python3.11/dist-packages (from requests->huggingface-hub==0.34.0) (2025.6.15)\nDownloading huggingface_hub-0.34.0-py3-none-any.whl (558 kB)\n\u001b[2K   \u001b[90m━━━━━━━━━━━━━━━━━━━━━━━━━━━━━━━━━━━━━━━━\u001b[0m \u001b[32m558.7/558.7 kB\u001b[0m \u001b[31m9.8 MB/s\u001b[0m eta \u001b[36m0:00:00\u001b[0mta \u001b[36m0:00:01\u001b[0m\n\u001b[?25hInstalling collected packages: huggingface-hub\n  Attempting uninstall: huggingface-hub\n    Found existing installation: huggingface-hub 0.34.3\n    Uninstalling huggingface-hub-0.34.3:\n      Successfully uninstalled huggingface-hub-0.34.3\nSuccessfully installed huggingface-hub-0.34.0\nRequirement already satisfied: transformers in /usr/local/lib/python3.11/dist-packages (4.56.0.dev0)\nRequirement already satisfied: filelock in /usr/local/lib/python3.11/dist-packages (from transformers) (3.18.0)\nRequirement already satisfied: huggingface-hub<1.0,>=0.34.0 in /usr/local/lib/python3.11/dist-packages (from transformers) (0.34.0)\nRequirement already satisfied: numpy>=1.17 in /usr/local/lib/python3.11/dist-packages (from transformers) (1.26.4)\nRequirement already satisfied: packaging>=20.0 in /usr/local/lib/python3.11/dist-packages (from transformers) (25.0)\nRequirement already satisfied: pyyaml>=5.1 in /usr/local/lib/python3.11/dist-packages (from transformers) (6.0.2)\nRequirement already satisfied: regex!=2019.12.17 in /usr/local/lib/python3.11/dist-packages (from transformers) (2024.11.6)\nRequirement already satisfied: requests in /usr/local/lib/python3.11/dist-packages (from transformers) (2.32.4)\nRequirement already satisfied: tokenizers<0.22,>=0.21 in /usr/local/lib/python3.11/dist-packages (from transformers) (0.21.2)\nRequirement already satisfied: safetensors>=0.4.3 in /usr/local/lib/python3.11/dist-packages (from transformers) (0.5.3)\nRequirement already satisfied: tqdm>=4.27 in /usr/local/lib/python3.11/dist-packages (from transformers) (4.67.1)\nRequirement already satisfied: fsspec>=2023.5.0 in /usr/local/lib/python3.11/dist-packages (from huggingface-hub<1.0,>=0.34.0->transformers) (2025.3.0)\nRequirement already satisfied: typing-extensions>=3.7.4.3 in /usr/local/lib/python3.11/dist-packages (from huggingface-hub<1.0,>=0.34.0->transformers) (4.14.0)\nRequirement already satisfied: hf-xet<2.0.0,>=1.1.3 in /usr/local/lib/python3.11/dist-packages (from huggingface-hub<1.0,>=0.34.0->transformers) (1.1.5)\nRequirement already satisfied: mkl_fft in /usr/local/lib/python3.11/dist-packages (from numpy>=1.17->transformers) (1.3.8)\nRequirement already satisfied: mkl_random in /usr/local/lib/python3.11/dist-packages (from numpy>=1.17->transformers) (1.2.4)\nRequirement already satisfied: mkl_umath in /usr/local/lib/python3.11/dist-packages (from numpy>=1.17->transformers) (0.1.1)\nRequirement already satisfied: mkl in /usr/local/lib/python3.11/dist-packages (from numpy>=1.17->transformers) (2025.2.0)\nRequirement already satisfied: tbb4py in /usr/local/lib/python3.11/dist-packages (from numpy>=1.17->transformers) (2022.2.0)\nRequirement already satisfied: mkl-service in /usr/local/lib/python3.11/dist-packages (from numpy>=1.17->transformers) (2.4.1)\nRequirement already satisfied: charset_normalizer<4,>=2 in /usr/local/lib/python3.11/dist-packages (from requests->transformers) (3.4.2)\nRequirement already satisfied: idna<4,>=2.5 in /usr/local/lib/python3.11/dist-packages (from requests->transformers) (3.10)\nRequirement already satisfied: urllib3<3,>=1.21.1 in /usr/local/lib/python3.11/dist-packages (from requests->transformers) (2.5.0)\nRequirement already satisfied: certifi>=2017.4.17 in /usr/local/lib/python3.11/dist-packages (from requests->transformers) (2025.6.15)\nRequirement already satisfied: intel-openmp<2026,>=2024 in /usr/local/lib/python3.11/dist-packages (from mkl->numpy>=1.17->transformers) (2024.2.0)\nRequirement already satisfied: tbb==2022.* in /usr/local/lib/python3.11/dist-packages (from mkl->numpy>=1.17->transformers) (2022.2.0)\nRequirement already satisfied: tcmlib==1.* in /usr/local/lib/python3.11/dist-packages (from tbb==2022.*->mkl->numpy>=1.17->transformers) (1.4.0)\nRequirement already satisfied: intel-cmplr-lib-rt in /usr/local/lib/python3.11/dist-packages (from mkl_umath->numpy>=1.17->transformers) (2024.2.0)\nRequirement already satisfied: intel-cmplr-lib-ur==2024.2.0 in /usr/local/lib/python3.11/dist-packages (from intel-openmp<2026,>=2024->mkl->numpy>=1.17->transformers) (2024.2.0)\n",
          "output_type": "stream"
        }
      ],
      "execution_count": null
    },
    {
      "id": "d94f35a4-44e5-40a4-9a64-ec45a085fcbc",
      "cell_type": "markdown",
      "source": [
        "## Loading the unsloth gemma model"
      ],
      "metadata": {
        "id": "d94f35a4-44e5-40a4-9a64-ec45a085fcbc"
      }
    },
    {
      "id": "5abad1db",
      "cell_type": "code",
      "source": [
        "from unsloth import FastModel\n",
        "import torch\n",
        "\n",
        "fourbit_models = [\n",
        "    # 4bit dynamic quants for superior accuracy and low memory use\n",
        "    \"unsloth/gemma-3n-E4B-it-unsloth-bnb-4bit\",\n",
        "    \"unsloth/gemma-3n-E2B-it-unsloth-bnb-4bit\",\n",
        "    # Pretrained models\n",
        "    \"unsloth/gemma-3n-E4B-unsloth-bnb-4bit\",\n",
        "    \"unsloth/gemma-3n-E2B-unsloth-bnb-4bit\",\n",
        "\n",
        "    # Other Gemma 3 quants\n",
        "    \"unsloth/gemma-3-1b-it-unsloth-bnb-4bit\",\n",
        "    \"unsloth/gemma-3-4b-it-unsloth-bnb-4bit\",\n",
        "    \"unsloth/gemma-3-12b-it-unsloth-bnb-4bit\",\n",
        "    \"unsloth/gemma-3-27b-it-unsloth-bnb-4bit\",\n",
        "] # More models at https://huggingface.co/unsloth\n",
        "model, tokenizer = FastModel.from_pretrained(\n",
        "    model_name = \"unsloth/gemma-3n-E2B-it-unsloth-bnb-4bit\", # Or \"unsloth/gemma-3n-E2B-it\"\n",
        "    dtype = None, # None for auto detection\n",
        "    max_seq_length = 1024, # Choose any for long context!\n",
        "    load_in_4bit = True,  # 4 bit quantization to reduce memory\n",
        "    full_finetuning = False, # [NEW!] We have full finetuning now!\n",
        "    # token = \"hf_...\", # use one if using gated models\n",
        ")"
      ],
      "metadata": {
        "_kg_hide-output": true,
        "execution": {
          "iopub.status.busy": "2025-08-05T23:07:03.715355Z",
          "iopub.execute_input": "2025-08-05T23:07:03.715599Z",
          "iopub.status.idle": "2025-08-05T23:08:43.561322Z",
          "shell.execute_reply.started": "2025-08-05T23:07:03.715574Z",
          "shell.execute_reply": "2025-08-05T23:08:43.560720Z"
        },
        "papermill": {
          "duration": 2.870725,
          "end_time": "2025-07-29T04:24:35.222914",
          "exception": true,
          "start_time": "2025-07-29T04:24:32.352189",
          "status": "failed"
        },
        "tags": [],
        "trusted": true,
        "colab": {
          "referenced_widgets": [
            "a8f846abce04462192f3a479a454cfaa",
            "4ec082a0476141369840f276e5fdfc6d",
            "d087558284e442d5a65c0f60fcd59d1e",
            "fd69e4165d0d4cc0bfa8d8b5a02ef10e",
            "81224ae7032b4195a42f18e1e4676583",
            "e2bf2afb99294e1dbc1c112ca7909f96",
            "b36a1743c2ba463dbd4c81834b376843",
            "b6f51264c81e4259b25e953e96940116",
            "e99e39ef539a4e038c0c7170c156b8df",
            "d744b6c49dd74109837588f86f9a6132",
            "a336921d304f4ecc966f603992bddd4a",
            "164b355cf9bb480eb7ba98da0691b8d7",
            "726f2afe9005402a92fb7bd862962863"
          ]
        },
        "id": "5abad1db",
        "outputId": "89441e28-a906-413b-c4ea-6836b32f4efa"
      },
      "outputs": [
        {
          "name": "stdout",
          "text": "🦥 Unsloth: Will patch your computer to enable 2x faster free finetuning.\n",
          "output_type": "stream"
        },
        {
          "name": "stderr",
          "text": "2025-08-05 23:07:13.220506: E external/local_xla/xla/stream_executor/cuda/cuda_fft.cc:477] Unable to register cuFFT factory: Attempting to register factory for plugin cuFFT when one has already been registered\nWARNING: All log messages before absl::InitializeLog() is called are written to STDERR\nE0000 00:00:1754435233.571809      36 cuda_dnn.cc:8310] Unable to register cuDNN factory: Attempting to register factory for plugin cuDNN when one has already been registered\nE0000 00:00:1754435233.670600      36 cuda_blas.cc:1418] Unable to register cuBLAS factory: Attempting to register factory for plugin cuBLAS when one has already been registered\n",
          "output_type": "stream"
        },
        {
          "name": "stdout",
          "text": "🦥 Unsloth Zoo will now patch everything to make training faster!\n==((====))==  Unsloth 2025.8.1: Fast Gemma3N patching. Transformers: 4.56.0.dev0.\n   \\\\   /|    Tesla T4. Num GPUs = 1. Max memory: 14.741 GB. Platform: Linux.\nO^O/ \\_/ \\    Torch: 2.7.1+cu126. CUDA: 7.5. CUDA Toolkit: 12.6. Triton: 3.3.1\n\\        /    Bfloat16 = FALSE. FA [Xformers = 0.0.31.post1. FA2 = False]\n \"-____-\"     Free license: http://github.com/unslothai/unsloth\nUnsloth: Fast downloading is enabled - ignore downloading bars which are red colored!\nUnsloth: Gemma3N does not support SDPA - switching to eager!\n",
          "output_type": "stream"
        },
        {
          "output_type": "display_data",
          "data": {
            "text/plain": "model.safetensors.index.json: 0.00B [00:00, ?B/s]",
            "application/vnd.jupyter.widget-view+json": {
              "version_major": 2,
              "version_minor": 0,
              "model_id": "a8f846abce04462192f3a479a454cfaa"
            }
          },
          "metadata": {}
        },
        {
          "output_type": "display_data",
          "data": {
            "text/plain": "model-00001-of-00003.safetensors:   0%|          | 0.00/2.65G [00:00<?, ?B/s]",
            "application/vnd.jupyter.widget-view+json": {
              "version_major": 2,
              "version_minor": 0,
              "model_id": "4ec082a0476141369840f276e5fdfc6d"
            }
          },
          "metadata": {}
        },
        {
          "output_type": "display_data",
          "data": {
            "text/plain": "model-00002-of-00003.safetensors:   0%|          | 0.00/4.99G [00:00<?, ?B/s]",
            "application/vnd.jupyter.widget-view+json": {
              "version_major": 2,
              "version_minor": 0,
              "model_id": "d087558284e442d5a65c0f60fcd59d1e"
            }
          },
          "metadata": {}
        },
        {
          "output_type": "display_data",
          "data": {
            "text/plain": "model-00003-of-00003.safetensors:   0%|          | 0.00/469M [00:00<?, ?B/s]",
            "application/vnd.jupyter.widget-view+json": {
              "version_major": 2,
              "version_minor": 0,
              "model_id": "fd69e4165d0d4cc0bfa8d8b5a02ef10e"
            }
          },
          "metadata": {}
        },
        {
          "output_type": "display_data",
          "data": {
            "text/plain": "Loading checkpoint shards:   0%|          | 0/3 [00:00<?, ?it/s]",
            "application/vnd.jupyter.widget-view+json": {
              "version_major": 2,
              "version_minor": 0,
              "model_id": "81224ae7032b4195a42f18e1e4676583"
            }
          },
          "metadata": {}
        },
        {
          "output_type": "display_data",
          "data": {
            "text/plain": "generation_config.json:   0%|          | 0.00/210 [00:00<?, ?B/s]",
            "application/vnd.jupyter.widget-view+json": {
              "version_major": 2,
              "version_minor": 0,
              "model_id": "e2bf2afb99294e1dbc1c112ca7909f96"
            }
          },
          "metadata": {}
        },
        {
          "output_type": "display_data",
          "data": {
            "text/plain": "processor_config.json:   0%|          | 0.00/98.0 [00:00<?, ?B/s]",
            "application/vnd.jupyter.widget-view+json": {
              "version_major": 2,
              "version_minor": 0,
              "model_id": "b36a1743c2ba463dbd4c81834b376843"
            }
          },
          "metadata": {}
        },
        {
          "output_type": "display_data",
          "data": {
            "text/plain": "chat_template.jinja: 0.00B [00:00, ?B/s]",
            "application/vnd.jupyter.widget-view+json": {
              "version_major": 2,
              "version_minor": 0,
              "model_id": "b6f51264c81e4259b25e953e96940116"
            }
          },
          "metadata": {}
        },
        {
          "output_type": "display_data",
          "data": {
            "text/plain": "preprocessor_config.json: 0.00B [00:00, ?B/s]",
            "application/vnd.jupyter.widget-view+json": {
              "version_major": 2,
              "version_minor": 0,
              "model_id": "e99e39ef539a4e038c0c7170c156b8df"
            }
          },
          "metadata": {}
        },
        {
          "output_type": "display_data",
          "data": {
            "text/plain": "tokenizer_config.json: 0.00B [00:00, ?B/s]",
            "application/vnd.jupyter.widget-view+json": {
              "version_major": 2,
              "version_minor": 0,
              "model_id": "d744b6c49dd74109837588f86f9a6132"
            }
          },
          "metadata": {}
        },
        {
          "output_type": "display_data",
          "data": {
            "text/plain": "tokenizer.model:   0%|          | 0.00/4.70M [00:00<?, ?B/s]",
            "application/vnd.jupyter.widget-view+json": {
              "version_major": 2,
              "version_minor": 0,
              "model_id": "a336921d304f4ecc966f603992bddd4a"
            }
          },
          "metadata": {}
        },
        {
          "output_type": "display_data",
          "data": {
            "text/plain": "tokenizer.json:   0%|          | 0.00/33.4M [00:00<?, ?B/s]",
            "application/vnd.jupyter.widget-view+json": {
              "version_major": 2,
              "version_minor": 0,
              "model_id": "164b355cf9bb480eb7ba98da0691b8d7"
            }
          },
          "metadata": {}
        },
        {
          "output_type": "display_data",
          "data": {
            "text/plain": "special_tokens_map.json:   0%|          | 0.00/777 [00:00<?, ?B/s]",
            "application/vnd.jupyter.widget-view+json": {
              "version_major": 2,
              "version_minor": 0,
              "model_id": "726f2afe9005402a92fb7bd862962863"
            }
          },
          "metadata": {}
        }
      ],
      "execution_count": null
    },
    {
      "id": "4c4bb917",
      "cell_type": "code",
      "source": [
        "# Common imports\n",
        "import os\n",
        "import optax\n",
        "import treescope\n",
        "\n",
        "# imports and libraries\n",
        "import pandas as pd\n",
        "import numpy as np\n",
        "import matplotlib.pyplot as plt\n",
        "import seaborn as sns\n",
        "import pandas as pd\n",
        "from datasets import Dataset"
      ],
      "metadata": {
        "papermill": {
          "duration": null,
          "end_time": null,
          "exception": null,
          "start_time": null,
          "status": "pending"
        },
        "tags": [],
        "trusted": true,
        "execution": {
          "iopub.status.busy": "2025-08-05T23:41:44.528949Z",
          "iopub.execute_input": "2025-08-05T23:41:44.529272Z",
          "iopub.status.idle": "2025-08-05T23:41:44.825499Z",
          "shell.execute_reply.started": "2025-08-05T23:41:44.529247Z",
          "shell.execute_reply": "2025-08-05T23:41:44.824704Z"
        },
        "id": "4c4bb917"
      },
      "outputs": [],
      "execution_count": null
    },
    {
      "id": "026f331c-73e5-42ca-b031-8428b0f51b34",
      "cell_type": "markdown",
      "source": [
        "## Data Preparation"
      ],
      "metadata": {
        "id": "026f331c-73e5-42ca-b031-8428b0f51b34"
      }
    },
    {
      "id": "11aea093",
      "cell_type": "code",
      "source": [
        "# Login using e.g. `huggingface-cli login` to access this dataset\n",
        "data = pd.read_csv(\"hf://datasets/infinite-dataset-hub/PregnancyBotConvo/data.csv\",index_col=None)\n",
        "data = data[[\"user_input\", \"bot_response\"]].dropna()\n",
        "data"
      ],
      "metadata": {
        "execution": {
          "iopub.status.busy": "2025-08-06T00:52:47.926478Z",
          "iopub.execute_input": "2025-08-06T00:52:47.926916Z",
          "iopub.status.idle": "2025-08-06T00:52:48.106899Z",
          "shell.execute_reply.started": "2025-08-06T00:52:47.926889Z",
          "shell.execute_reply": "2025-08-06T00:52:48.106174Z"
        },
        "papermill": {
          "duration": null,
          "end_time": null,
          "exception": null,
          "start_time": null,
          "status": "pending"
        },
        "tags": [],
        "trusted": true,
        "id": "11aea093",
        "outputId": "265bf3a8-af18-4e63-d0ec-960feab6ab3b"
      },
      "outputs": [
        {
          "execution_count": 34,
          "output_type": "execute_result",
          "data": {
            "text/plain": "                                           user_input  \\\n0      What are some good exercises during pregnancy?   \n1       I'm worried about morning sickness. Any tips?   \n2         What should I know about prenatal vitamins?   \n3              How can I prepare for a natural birth?   \n4   I'm feeling anxious about childbirth. What sho...   \n..                                                ...   \n94     What if something goes wrong during the birth?   \n95                      Can I practice prenatal yoga?   \n96  Should I avoid certain smells to help with mor...   \n97  Can I take prenatal vitamins if I'm not pregnant?   \n98  I'm worried about postpartum depression. How c...   \n\n                                         bot_response  \n0   Certain exercises can help maintain fitness an...  \n1   There are several strategies to help manage mo...  \n2   Prenatal vitamins are crucial for your baby's ...  \n3   Preparing for a natural birth involves underst...  \n4   Feeling anxious about childbirth is common. It...  \n..                                                ...  \n94  It's natural to worry about complications duri...  \n95  Prenatal yoga is specifically designed to acco...  \n96  Yes, certain smells can trigger nausea. Try to...  \n97  Taking prenatal vitamins is not only for pregn...  \n98  Educating yourself about postpartum depression...  \n\n[99 rows x 2 columns]",
            "text/html": "<div>\n<style scoped>\n    .dataframe tbody tr th:only-of-type {\n        vertical-align: middle;\n    }\n\n    .dataframe tbody tr th {\n        vertical-align: top;\n    }\n\n    .dataframe thead th {\n        text-align: right;\n    }\n</style>\n<table border=\"1\" class=\"dataframe\">\n  <thead>\n    <tr style=\"text-align: right;\">\n      <th></th>\n      <th>user_input</th>\n      <th>bot_response</th>\n    </tr>\n  </thead>\n  <tbody>\n    <tr>\n      <th>0</th>\n      <td>What are some good exercises during pregnancy?</td>\n      <td>Certain exercises can help maintain fitness an...</td>\n    </tr>\n    <tr>\n      <th>1</th>\n      <td>I'm worried about morning sickness. Any tips?</td>\n      <td>There are several strategies to help manage mo...</td>\n    </tr>\n    <tr>\n      <th>2</th>\n      <td>What should I know about prenatal vitamins?</td>\n      <td>Prenatal vitamins are crucial for your baby's ...</td>\n    </tr>\n    <tr>\n      <th>3</th>\n      <td>How can I prepare for a natural birth?</td>\n      <td>Preparing for a natural birth involves underst...</td>\n    </tr>\n    <tr>\n      <th>4</th>\n      <td>I'm feeling anxious about childbirth. What sho...</td>\n      <td>Feeling anxious about childbirth is common. It...</td>\n    </tr>\n    <tr>\n      <th>...</th>\n      <td>...</td>\n      <td>...</td>\n    </tr>\n    <tr>\n      <th>94</th>\n      <td>What if something goes wrong during the birth?</td>\n      <td>It's natural to worry about complications duri...</td>\n    </tr>\n    <tr>\n      <th>95</th>\n      <td>Can I practice prenatal yoga?</td>\n      <td>Prenatal yoga is specifically designed to acco...</td>\n    </tr>\n    <tr>\n      <th>96</th>\n      <td>Should I avoid certain smells to help with mor...</td>\n      <td>Yes, certain smells can trigger nausea. Try to...</td>\n    </tr>\n    <tr>\n      <th>97</th>\n      <td>Can I take prenatal vitamins if I'm not pregnant?</td>\n      <td>Taking prenatal vitamins is not only for pregn...</td>\n    </tr>\n    <tr>\n      <th>98</th>\n      <td>I'm worried about postpartum depression. How c...</td>\n      <td>Educating yourself about postpartum depression...</td>\n    </tr>\n  </tbody>\n</table>\n<p>99 rows × 2 columns</p>\n</div>"
          },
          "metadata": {}
        }
      ],
      "execution_count": null
    },
    {
      "id": "2fc5b376",
      "cell_type": "code",
      "source": [
        "final_test = data.iloc[96:]\n",
        "test"
      ],
      "metadata": {
        "execution": {
          "iopub.status.busy": "2025-08-06T00:52:59.229499Z",
          "iopub.execute_input": "2025-08-06T00:52:59.229801Z",
          "iopub.status.idle": "2025-08-06T00:52:59.235613Z",
          "shell.execute_reply.started": "2025-08-06T00:52:59.229779Z",
          "shell.execute_reply": "2025-08-06T00:52:59.234751Z"
        },
        "papermill": {
          "duration": null,
          "end_time": null,
          "exception": null,
          "start_time": null,
          "status": "pending"
        },
        "tags": [],
        "trusted": true,
        "id": "2fc5b376",
        "outputId": "05652c4e-4035-42f7-d0e3-7fc7cd41d2ea"
      },
      "outputs": [
        {
          "execution_count": 35,
          "output_type": "execute_result",
          "data": {
            "text/plain": "[{'text': \"<bos><start_of_turn>user\\nMy partner and I are worried about the baby's health. How can we stay calm?<end_of_turn>\\n<start_of_turn>model\\nIt's natural to feel worried. Consider reading about common pregnancy complications and symptoms, and remember that most babies are born healthy. It's important to communicate openly with your partner and healthcare provider.<end_of_turn>\\n\"},\n {'text': '<bos><start_of_turn>user\\nAre prenatal vitamins necessary for everyone?<end_of_turn>\\n<start_of_turn>model\\nWhile prenatal vitamins can be beneficial for most pregnant individuals, they are not a one-size-fits-all solution. Your healthcare provider can help determine if prenatal vitamins are necessary based on your individual health and dietary needs.<end_of_turn>\\n'},\n {'text': \"<bos><start_of_turn>user\\nWhat should I do if I'm experiencing extreme morning sickness?<end_of_turn>\\n<start_of_turn>model\\nExtreme morning sickness, also known as hyperemesis gravidarum, may require medical intervention. Contact your healthcare provider if you're unable to keep fluids down or if your symptoms persist.<end_of_turn>\\n\"}]"
          },
          "metadata": {}
        }
      ],
      "execution_count": null
    },
    {
      "id": "2c39c645",
      "cell_type": "code",
      "source": [
        "data.drop(final_test.index, inplace = True)\n",
        "data"
      ],
      "metadata": {
        "execution": {
          "iopub.status.busy": "2025-08-06T00:53:12.243522Z",
          "iopub.execute_input": "2025-08-06T00:53:12.244073Z",
          "iopub.status.idle": "2025-08-06T00:53:12.255638Z",
          "shell.execute_reply.started": "2025-08-06T00:53:12.244048Z",
          "shell.execute_reply": "2025-08-06T00:53:12.254755Z"
        },
        "papermill": {
          "duration": null,
          "end_time": null,
          "exception": null,
          "start_time": null,
          "status": "pending"
        },
        "tags": [],
        "trusted": true,
        "id": "2c39c645",
        "outputId": "12929d57-da71-4681-ea4e-fae8e4337aad"
      },
      "outputs": [
        {
          "execution_count": 37,
          "output_type": "execute_result",
          "data": {
            "text/plain": "                                           user_input  \\\n0      What are some good exercises during pregnancy?   \n1       I'm worried about morning sickness. Any tips?   \n2         What should I know about prenatal vitamins?   \n3              How can I prepare for a natural birth?   \n4   I'm feeling anxious about childbirth. What sho...   \n..                                                ...   \n91         What are the signs of a healthy pregnancy?   \n92      Are prenatal vitamins necessary for everyone?   \n93          What's the best way to manage labor pain?   \n94     What if something goes wrong during the birth?   \n95                      Can I practice prenatal yoga?   \n\n                                         bot_response  \n0   Certain exercises can help maintain fitness an...  \n1   There are several strategies to help manage mo...  \n2   Prenatal vitamins are crucial for your baby's ...  \n3   Preparing for a natural birth involves underst...  \n4   Feeling anxious about childbirth is common. It...  \n..                                                ...  \n91  Signs of a healthy pregnancy include regular p...  \n92  While prenatal vitamins can be beneficial for ...  \n93  There are several pain management options, inc...  \n94  It's natural to worry about complications duri...  \n95  Prenatal yoga is specifically designed to acco...  \n\n[96 rows x 2 columns]",
            "text/html": "<div>\n<style scoped>\n    .dataframe tbody tr th:only-of-type {\n        vertical-align: middle;\n    }\n\n    .dataframe tbody tr th {\n        vertical-align: top;\n    }\n\n    .dataframe thead th {\n        text-align: right;\n    }\n</style>\n<table border=\"1\" class=\"dataframe\">\n  <thead>\n    <tr style=\"text-align: right;\">\n      <th></th>\n      <th>user_input</th>\n      <th>bot_response</th>\n    </tr>\n  </thead>\n  <tbody>\n    <tr>\n      <th>0</th>\n      <td>What are some good exercises during pregnancy?</td>\n      <td>Certain exercises can help maintain fitness an...</td>\n    </tr>\n    <tr>\n      <th>1</th>\n      <td>I'm worried about morning sickness. Any tips?</td>\n      <td>There are several strategies to help manage mo...</td>\n    </tr>\n    <tr>\n      <th>2</th>\n      <td>What should I know about prenatal vitamins?</td>\n      <td>Prenatal vitamins are crucial for your baby's ...</td>\n    </tr>\n    <tr>\n      <th>3</th>\n      <td>How can I prepare for a natural birth?</td>\n      <td>Preparing for a natural birth involves underst...</td>\n    </tr>\n    <tr>\n      <th>4</th>\n      <td>I'm feeling anxious about childbirth. What sho...</td>\n      <td>Feeling anxious about childbirth is common. It...</td>\n    </tr>\n    <tr>\n      <th>...</th>\n      <td>...</td>\n      <td>...</td>\n    </tr>\n    <tr>\n      <th>91</th>\n      <td>What are the signs of a healthy pregnancy?</td>\n      <td>Signs of a healthy pregnancy include regular p...</td>\n    </tr>\n    <tr>\n      <th>92</th>\n      <td>Are prenatal vitamins necessary for everyone?</td>\n      <td>While prenatal vitamins can be beneficial for ...</td>\n    </tr>\n    <tr>\n      <th>93</th>\n      <td>What's the best way to manage labor pain?</td>\n      <td>There are several pain management options, inc...</td>\n    </tr>\n    <tr>\n      <th>94</th>\n      <td>What if something goes wrong during the birth?</td>\n      <td>It's natural to worry about complications duri...</td>\n    </tr>\n    <tr>\n      <th>95</th>\n      <td>Can I practice prenatal yoga?</td>\n      <td>Prenatal yoga is specifically designed to acco...</td>\n    </tr>\n  </tbody>\n</table>\n<p>96 rows × 2 columns</p>\n</div>"
          },
          "metadata": {}
        }
      ],
      "execution_count": null
    },
    {
      "id": "c05ef83e",
      "cell_type": "code",
      "source": [
        "# defining the tokenizer\n",
        "from unsloth.chat_templates import get_chat_template\n",
        "tokenizer = get_chat_template(\n",
        "    tokenizer,\n",
        "    chat_template = \"gemma-3\",\n",
        ")"
      ],
      "metadata": {
        "execution": {
          "iopub.status.busy": "2025-08-05T23:41:56.462111Z",
          "iopub.execute_input": "2025-08-05T23:41:56.462665Z",
          "iopub.status.idle": "2025-08-05T23:41:56.467291Z",
          "shell.execute_reply.started": "2025-08-05T23:41:56.462641Z",
          "shell.execute_reply": "2025-08-05T23:41:56.466717Z"
        },
        "papermill": {
          "duration": null,
          "end_time": null,
          "exception": null,
          "start_time": null,
          "status": "pending"
        },
        "tags": [],
        "trusted": true,
        "id": "c05ef83e"
      },
      "outputs": [],
      "execution_count": null
    },
    {
      "id": "3d62e150",
      "cell_type": "code",
      "source": [
        "# This function formats a row of dialogue history using the tokenizer's chat template.\n",
        "# It expects each row to have 'user_input' and 'bot_response' keys.\n",
        "# The output is a single string prompt formatted for chat-based language models.\n",
        "def format_prompt(row):\n",
        "    return tokenizer.apply_chat_template([\n",
        "        {\"role\": \"user\", \"content\": row[\"user_input\"]},\n",
        "        {\"role\": \"assistant\", \"content\": row[\"bot_response\"]},\n",
        "    ])\n"
      ],
      "metadata": {
        "execution": {
          "iopub.status.busy": "2025-08-05T23:42:12.267861Z",
          "iopub.execute_input": "2025-08-05T23:42:12.268476Z",
          "iopub.status.idle": "2025-08-05T23:42:12.272969Z",
          "shell.execute_reply.started": "2025-08-05T23:42:12.268451Z",
          "shell.execute_reply": "2025-08-05T23:42:12.272127Z"
        },
        "papermill": {
          "duration": null,
          "end_time": null,
          "exception": null,
          "start_time": null,
          "status": "pending"
        },
        "tags": [],
        "trusted": true,
        "id": "3d62e150"
      },
      "outputs": [],
      "execution_count": null
    },
    {
      "id": "aa57d1a2-a194-42b2-a5f3-496ffa091aca",
      "cell_type": "code",
      "source": [
        "# applying the function to the prompt\n",
        "data[\"chat_prompt\"] = data.apply(format_prompt, axis=1)"
      ],
      "metadata": {
        "trusted": true,
        "execution": {
          "iopub.status.busy": "2025-08-05T23:42:14.651964Z",
          "iopub.execute_input": "2025-08-05T23:42:14.652684Z",
          "iopub.status.idle": "2025-08-05T23:42:14.676065Z",
          "shell.execute_reply.started": "2025-08-05T23:42:14.652657Z",
          "shell.execute_reply": "2025-08-05T23:42:14.675511Z"
        },
        "id": "aa57d1a2-a194-42b2-a5f3-496ffa091aca"
      },
      "outputs": [],
      "execution_count": null
    },
    {
      "id": "8b907fbd-459d-4f06-9374-a21784791a89",
      "cell_type": "code",
      "source": [
        "# shuffling the data\n",
        "data = data.sample(frac=1, random_state=42).reset_index(drop=True)\n",
        "dataset = data[['chat_prompt']]\n",
        "\n",
        "# splitting the train and test\n",
        "train = dataset[:93]\n",
        "test = dataset[93:]\n",
        "dataset = [{\"text\": row} for row in dataset[\"chat_prompt\"].tolist()]\n",
        "train = [{\"text\": row} for row in train[\"chat_prompt\"].tolist()]\n",
        "test = [{\"text\": row} for row in test[\"chat_prompt\"].tolist()]\n",
        "dataset"
      ],
      "metadata": {
        "trusted": true,
        "execution": {
          "iopub.status.busy": "2025-08-05T23:42:24.106486Z",
          "iopub.execute_input": "2025-08-05T23:42:24.106764Z",
          "iopub.status.idle": "2025-08-05T23:42:24.125150Z",
          "shell.execute_reply.started": "2025-08-05T23:42:24.106743Z",
          "shell.execute_reply": "2025-08-05T23:42:24.124426Z"
        },
        "id": "8b907fbd-459d-4f06-9374-a21784791a89",
        "outputId": "873f3d7c-c118-4eaf-a2b2-9df083870eb5"
      },
      "outputs": [
        {
          "execution_count": 16,
          "output_type": "execute_result",
          "data": {
            "text/plain": "[{'text': \"<bos><start_of_turn>user\\nWhat's the best time of day to exercise during pregnancy?<end_of_turn>\\n<start_of_turn>model\\nExercise at any time of day that suits you best. However, try to maintain a consistent schedule and avoid extreme temperatures, especially during the first trimester.<end_of_turn>\\n\"},\n {'text': \"<bos><start_of_turn>user\\nAre prenatal vitamins safe during breastfeeding?<end_of_turn>\\n<start_of_turn>model\\nPrenatal vitamins are safe during breastfeeding, but you should continue to consult with your healthcare provider to ensure you're meeting your nutritional needs.<end_of_turn>\\n\"},\n {'text': '<bos><start_of_turn>user\\nWhat are the signs of labor starting?<end_of_turn>\\n<start_of_turn>model\\nSigns of labor starting include regular contractions, lower back pain, rupture of membranes, and a bloody show. Contact your healthcare provider when you suspect labor has begun.<end_of_turn>\\n'},\n {'text': \"<bos><start_of_turn>user\\nWhat if something goes wrong during the birth?<end_of_turn>\\n<start_of_turn>model\\nIt's natural to worry about complications during birth. Know that your healthcare provider is trained to handle various situations. Trust in their expertise and remember that many births go smoothly without any complications.<end_of_turn>\\n\"},\n {'text': '<bos><start_of_turn>user\\nIs there a difference between home birth and hospital birth?<end_of_turn>\\n<start_of_turn>model\\nBoth options have their benefits. Home birth can provide a more familiar and comfortable environment, while hospital birth offers immediate medical assistance if needed. Consider discussing your preferences with your healthcare provider.<end_of_turn>\\n'},\n {'text': '<bos><start_of_turn>user\\nMy mind keeps racing with worst-case scenarios. How can I calm it down?<end_of_turn>\\n<start_of_turn>model\\nTry journaling, mindfulness exercises, or talking to a trusted friend or family member about your concerns. Focusing on the present and practicing gratitude can also help shift your mindset.<end_of_turn>\\n'},\n {'text': \"<bos><start_of_turn>user\\nI'm feeling isolated during my pregnancy. What can I do?<end_of_turn>\\n<start_of_turn>model\\nJoining online communities or attending local support groups for expectant parents can help combat feelings of isolation. Don't be afraid to share your experiences and ask for advice from others who are going through similar situations.<end_of_turn>\\n\"},\n {'text': \"<bos><start_of_turn>user\\nDo I need prenatal vitamins if I'm vegetarian?<end_of_turn>\\n<start_of_turn>model\\nIf you're a vegetarian, you may need to take additional vitamin B12 supplements, as it's primarily found in animal products. Prenatal vitamins often contain this nutrient, but it's best to consult with your healthcare provider for personalized advice.<end_of_turn>\\n\"},\n {'text': \"<bos><start_of_turn>user\\nWhat are some good exercises during pregnancy?<end_of_turn>\\n<start_of_turn>model\\nCertain exercises can help maintain fitness and prepare your body for labor. It's best to consult with your healthcare provider before starting any new exercise routine during pregnancy.<end_of_turn>\\n\"},\n {'text': '<bos><start_of_turn>user\\nWhat types of yoga are safe during pregnancy?<end_of_turn>\\n<start_of_turn>model\\nYoga can be a beneficial exercise during pregnancy. Look for prenatal yoga classes designed to accommodate your changing body.<end_of_turn>\\n'},\n {'text': \"<bos><start_of_turn>user\\nI'm worried about the changes my body will go through during pregnancy. What can I do?<end_of_turn>\\n<start_of_turn>model\\nIt's natural to feel anxious about physical changes during pregnancy. Stay informed about what to expect, maintain a healthy lifestyle, and remember that your body is doing an amazing job.<end_of_turn>\\n\"},\n {'text': '<bos><start_of_turn>user\\nIs it safe to do weightlifting during pregnancy?<end_of_turn>\\n<start_of_turn>model\\nLight weightlifting can be part of a healthy exercise routine during pregnancy. Focus on proper form and avoid lifting heavy weights. Consult with your healthcare provider for personalized advice.<end_of_turn>\\n'},\n {'text': '<bos><start_of_turn>user\\nShould I hire a doula for support during labor?<end_of_turn>\\n<start_of_turn>model\\nHiring a doula can provide additional emotional support, advocacy, and comfort measures during labor. Discuss this option with your healthcare provider and evaluate your needs and preferences.<end_of_turn>\\n'},\n {'text': \"<bos><start_of_turn>user\\nI'm feeling anxious about childbirth. What should I do?<end_of_turn>\\n<start_of_turn>model\\nFeeling anxious about childbirth is common. It's important to communicate your feelings with your healthcare provider. They can provide support and refer you to counseling services if necessary.<end_of_turn>\\n\"},\n {'text': '<bos><start_of_turn>user\\nShould I take vitamin supplements during pregnancy?<end_of_turn>\\n<start_of_turn>model\\nVitamin supplements can be beneficial during pregnancy, especially folic acid, iron, and calcium. Always consult with your healthcare provider for personalized recommendations.<end_of_turn>\\n'},\n {'text': \"<bos><start_of_turn>user\\nShould I be taking any medication for morning sickness?<end_of_turn>\\n<start_of_turn>model\\nSome medications are safe to use during pregnancy, but it's crucial to discuss this with your healthcare provider before starting any medication for morning sickness. They can recommend the safest options for you.<end_of_turn>\\n\"},\n {'text': \"<bos><start_of_turn>user\\nWhat vitamins are essential during pregnancy?<end_of_turn>\\n<start_of_turn>model\\nDuring pregnancy, essential vitamins include folic acid, iron, calcium, and DHA. It's recommended to consult with your healthcare provider to tailor a prenatal vitamin regimen that's right for you.<end_of_turn>\\n\"},\n {'text': \"<bos><start_of_turn>user\\nCan I take multivitamins for pregnancy?<end_of_turn>\\n<start_of_turn>model\\nMultivitamins specifically formulated for pregnancy are designed to meet your increased nutritional needs during this time. However, it's important to choose a reputable brand and discuss with your healthcare provider before starting any new supplement.<end_of_turn>\\n\"},\n {'text': '<bos><start_of_turn>user\\nHow can I involve my partner in the birth plan?<end_of_turn>\\n<start_of_turn>model\\nInvolve your partner by discussing their role, what they should expect, and how they can support you. Attend birthing classes together to prepare both of you.<end_of_turn>\\n'},\n {'text': '<bos><start_of_turn>user\\nShould I stop doing aerobics?<end_of_turn>\\n<start_of_turn>model\\nYou can continue with low-impact aerobics, such as water aerobics or using an elliptical machine. Always listen to your body and consult with your healthcare provider.<end_of_turn>\\n'},\n {'text': '<bos><start_of_turn>user\\nHow can I stay active if I have a sedentary job?<end_of_turn>\\n<start_of_turn>model\\nConsider incorporating short walks during breaks, using a standing desk, or performing simple stretches and exercises at your desk to stay active throughout the day.<end_of_turn>\\n'},\n {'text': '<bos><start_of_turn>user\\nShould I take prenatal vitamins before getting pregnant?<end_of_turn>\\n<start_of_turn>model\\nTaking prenatal vitamins before pregnancy can help ensure you have the necessary nutrients for a healthy pregnancy. Consult with your healthcare provider for personalized advice.<end_of_turn>\\n'},\n {'text': '<bos><start_of_turn>user\\nWhat about swimming?<end_of_turn>\\n<start_of_turn>model\\nSwimming is an excellent low-impact exercise for pregnant women. It helps maintain muscle tone and endurance without putting stress on the joints.<end_of_turn>\\n'},\n {'text': '<bos><start_of_turn>user\\nWhat is the role of a midwife during childbirth?<end_of_turn>\\n<start_of_turn>model\\nA midwife provides comprehensive care throughout pregnancy, labor, and postpartum. They offer guidance, support, and medical interventions as needed. They can be a valuable resource during your childbirth journey.<end_of_turn>\\n'},\n {'text': '<bos><start_of_turn>user\\nHow can I involve my partner in the birth process?<end_of_turn>\\n<start_of_turn>model\\nYour partner can provide emotional support, advocacy, and assistance during labor and delivery. Encourage open communication, active involvement, and shared decision-making.<end_of_turn>\\n'},\n {'text': \"<bos><start_of_turn>user\\nWhat are some relaxation techniques during pregnancy?<end_of_turn>\\n<start_of_turn>model\\nTry deep breathing exercises, progressive muscle relaxation, or prenatal yoga to help manage stress and anxiety. Remember, it's okay to seek support from a mental health professional if you're feeling overwhelmed.<end_of_turn>\\n\"},\n {'text': \"<bos><start_of_turn>user\\nI'm having panic attacks because of my pregnancy. What should I do?<end_of_turn>\\n<start_of_turn>model\\nIt's important to address your panic attacks. Practice deep breathing and grounding techniques, and consider seeking help from a mental health professional. Your healthcare provider can also offer guidance.<end_of_turn>\\n\"},\n {'text': '<bos><start_of_turn>user\\nCan I eat ginger to help with morning sickness?<end_of_turn>\\n<start_of_turn>model\\nYes, ginger is a natural remedy that may help alleviate nausea. Consider ginger tea or ginger supplements, but always consult your healthcare provider first.<end_of_turn>\\n'},\n {'text': '<bos><start_of_turn>user\\nIs cycling safe during pregnancy?<end_of_turn>\\n<start_of_turn>model\\nStationary cycling is a safe option during pregnancy, as it is low impact and helps with cardiovascular fitness. Outdoor cycling should be avoided due to the risk of falls.<end_of_turn>\\n'},\n {'text': \"<bos><start_of_turn>user\\nWhat kind of stretches are safe?<end_of_turn>\\n<start_of_turn>model\\nSafe stretches during pregnancy include those that don't require you to lie on your back or put pressure on your abdomen. Focus on stretches that improve flexibility and reduce stress, like pelvic tilts and gentle hamstring stretches.<end_of_turn>\\n\"},\n {'text': \"<bos><start_of_turn>user\\nWhat should I expect during labor?<end_of_turn>\\n<start_of_turn>model\\nLabor can vary greatly from person to person. It's important to understand the different stages of labor, common sensations, and pain relief options. Your healthcare provider can provide detailed information based on your specific situation.<end_of_turn>\\n\"},\n {'text': \"<bos><start_of_turn>user\\nShould I take prenatal vitamins every day?<end_of_turn>\\n<start_of_turn>model\\nIt's recommended to take prenatal vitamins daily throughout your pregnancy, as they are designed to support your and your baby's health. However, make sure to discuss the appropriate dosage and frequency with your healthcare provider.<end_of_turn>\\n\"},\n {'text': '<bos><start_of_turn>user\\nHow do I stay motivated to exercise during pregnancy?<end_of_turn>\\n<start_of_turn>model\\nStaying motivated can be challenging. Set realistic goals, celebrate small victories, and find a workout buddy or prenatal exercise group to keep you engaged and accountable.<end_of_turn>\\n'},\n {'text': \"<bos><start_of_turn>user\\nCan I do yoga while pregnant?<end_of_turn>\\n<start_of_turn>model\\nYes, yoga is a great way to stay active and maintain flexibility during pregnancy. It's recommended to avoid hot yoga and ensure you're practicing under the guidance of a prenatal yoga instructor.<end_of_turn>\\n\"},\n {'text': '<bos><start_of_turn>user\\nWhat can I do if I feel depressed during pregnancy?<end_of_turn>\\n<start_of_turn>model\\nDepression during pregnancy is a serious concern. Reach out to your healthcare provider, who can offer guidance and, if necessary, refer you to a mental health professional. Remember, you are not alone, and seeking help is a sign of strength.<end_of_turn>\\n'},\n {'text': \"<bos><start_of_turn>user\\nI'm scared of giving birth. How can I prepare mentally?<end_of_turn>\\n<start_of_turn>model\\nPreparing for the birth of your baby can involve educating yourself about the process, discussing your fears with your healthcare provider, and practicing visualization or relaxation techniques. Remember, it's normal to have fears, and seeking support can be very beneficial.<end_of_turn>\\n\"},\n {'text': \"<bos><start_of_turn>user\\nShould I avoid lifting heavy weights?<end_of_turn>\\n<start_of_turn>model\\nIt's generally recommended to avoid heavy weightlifting during pregnancy due to the risk of injury. Instead, focus on lighter weights, bodyweight exercises, and exercises that do not put pressure on your abdomen.<end_of_turn>\\n\"},\n {'text': \"<bos><start_of_turn>user\\nCan ginger help with morning sickness?<end_of_turn>\\n<start_of_turn>model\\nYes, ginger can be effective for some people. Try ginger tea, ginger candies, or ginger supplements, but consult with your healthcare provider first to ensure it's safe for you.<end_of_turn>\\n\"},\n {'text': '<bos><start_of_turn>user\\nHow often should I take prenatal vitamins?<end_of_turn>\\n<start_of_turn>model\\nPrenatal vitamins are typically recommended to be taken daily, ideally with a meal. Always follow the dosage instructions provided by your healthcare provider.<end_of_turn>\\n'},\n {'text': \"<bos><start_of_turn>user\\nI'm afraid of not being a good parent. Any advice?<end_of_turn>\\n<start_of_turn>model\\nBecoming a parent is a journey with its own challenges and learning experiences. Trust in your abilities and seek support from your partner, family, and friends. Remember, there is no perfect way to be a parent, and it's okay to ask for help.<end_of_turn>\\n\"},\n {'text': \"<bos><start_of_turn>user\\nWhat vitamins are essential for pregnancy?<end_of_turn>\\n<start_of_turn>model\\nDuring pregnancy, essential vitamins include folic acid, iron, calcium, and DHA. It's recommended to consult with a healthcare provider to tailor a prenatal vitamin regimen to your specific needs.<end_of_turn>\\n\"},\n {'text': '<bos><start_of_turn>user\\nWhat are the signs of a healthy pregnancy?<end_of_turn>\\n<start_of_turn>model\\nSigns of a healthy pregnancy include regular prenatal care visits, a balanced diet, staying hydrated, and noticing fetal movements. Any concerns should be discussed with your healthcare provider.<end_of_turn>\\n'},\n {'text': '<bos><start_of_turn>user\\nCan prenatal vitamins be taken with food?<end_of_turn>\\n<start_of_turn>model\\nPrenatal vitamins are generally taken with food to improve absorption and reduce the chance of nausea. Some vitamins are better absorbed with fat, while others can be taken with or without food.<end_of_turn>\\n'},\n {'text': \"<bos><start_of_turn>user\\nMy partner and I are both anxious about the baby's health. How can we cope?<end_of_turn>\\n<start_of_turn>model\\nCommunication and support from each other can be very helpful. Consider attending prenatal classes together and exploring support groups for expectant parents. Don't hesitate to reach out to your healthcare provider for guidance.<end_of_turn>\\n\"},\n {'text': '<bos><start_of_turn>user\\nShould I have a birth center or a hospital for delivery?<end_of_turn>\\n<start_of_turn>model\\nConsider factors such as the level of medical intervention desired, proximity to healthcare facilities, and personal comfort when deciding between a birth center or hospital. Consult with your healthcare provider for guidance.<end_of_turn>\\n'},\n {'text': '<bos><start_of_turn>user\\nIs it safe to go for a walk?<end_of_turn>\\n<start_of_turn>model\\nWalking is a safe and beneficial exercise during pregnancy. It can help with circulation, reduce stress, and prepare your body for labor. Just be sure to stay hydrated and avoid overexertion.<end_of_turn>\\n'},\n {'text': \"<bos><start_of_turn>user\\nI'm feeling overwhelmed by all the changes during pregnancy. Any tips?<end_of_turn>\\n<start_of_turn>model\\nEmbrace the changes and remember that they are all a part of bringing a new life into the world. Take time for self-care, communicate your feelings to your support system, and focus on the joys of motherhood.<end_of_turn>\\n\"},\n {'text': \"<bos><start_of_turn>user\\nWhat should I pack for the hospital?<end_of_turn>\\n<start_of_turn>model\\nIt's important to pack comfortable clothing, pajamas, personal toiletries, and any essential medications. Don't forget to pack your ID, insurance card, and baby supplies.<end_of_turn>\\n\"},\n {'text': \"<bos><start_of_turn>user\\nWhat should I do if I'm feeling overwhelmed by the pregnancy?<end_of_turn>\\n<start_of_turn>model\\nOverwhelming feelings are common during pregnancy. Take deep breaths, practice mindfulness or meditation, and don't hesitate to seek support from friends, family, or a mental health professional.<end_of_turn>\\n\"},\n {'text': '<bos><start_of_turn>user\\nHow can I prepare for a natural birth?<end_of_turn>\\n<start_of_turn>model\\nPreparing for a natural birth involves understanding your options and working with your healthcare provider. You might consider attending childbirth education classes, creating a birth plan, and practicing relaxation techniques.<end_of_turn>\\n'},\n {'text': \"<bos><start_of_turn>user\\nAre there natural sources of prenatal vitamins?<end_of_turn>\\n<start_of_turn>model\\nYes, some natural sources include leafy greens, citrus fruits, and fortified foods. However, it's crucial to ensure you're getting the recommended daily allowances of each nutrient.<end_of_turn>\\n\"},\n {'text': '<bos><start_of_turn>user\\nHow do I create a birth plan?<end_of_turn>\\n<start_of_turn>model\\nA birth plan outlines your preferences for labor and delivery, including pain management, interventions, and baby care. Work with your healthcare provider to create a realistic and personalized plan.<end_of_turn>\\n'},\n {'text': '<bos><start_of_turn>user\\nWhat are some relaxation techniques for childbirth?<end_of_turn>\\n<start_of_turn>model\\nBreathing exercises, visualization, and mindfulness can be effective techniques to help manage pain and anxiety during childbirth. Practice these regularly to prepare for the delivery.<end_of_turn>\\n'},\n {'text': '<bos><start_of_turn>user\\nIs Pilates good for pregnancy?<end_of_turn>\\n<start_of_turn>model\\nPilates can be a good form of exercise during pregnancy, focusing on core strength, flexibility, and balance. Ensure your instructor is certified in prenatal fitness.<end_of_turn>\\n'},\n {'text': \"<bos><start_of_turn>user\\nIs there a specific diet I should follow to help with morning sickness?<end_of_turn>\\n<start_of_turn>model\\nWhile there's no one-size-fits-all diet, eating small, frequent meals and focusing on bland, starchy foods may help. Avoiding fatty, spicy, and acidic foods can also be beneficial. Always discuss your diet with a healthcare provider.<end_of_turn>\\n\"},\n {'text': '<bos><start_of_turn>user\\nAre there any side effects of prenatal vitamins?<end_of_turn>\\n<start_of_turn>model\\nSome people may experience side effects like constipation, nausea, or bad breath from prenatal vitamins. If you experience any discomfort, discuss this with your healthcare provider to adjust your vitamin regimen as needed.<end_of_turn>\\n'},\n {'text': '<bos><start_of_turn>user\\nCan exercise help with morning sickness?<end_of_turn>\\n<start_of_turn>model\\nExercise can improve your overall well-being and potentially help with morning sickness. However, listen to your body and choose gentle exercises that feel comfortable. Always consult with your healthcare provider.<end_of_turn>\\n'},\n {'text': \"<bos><start_of_turn>user\\nI'm scared of going into labor. What can I do to stay calm?<end_of_turn>\\n<start_of_turn>model\\nIt's normal to feel scared about labor. Educate yourself about the labor process, create a birth plan, and practice relaxation techniques. Trust in your body's ability to give birth and remember that your healthcare provider is there to support you.<end_of_turn>\\n\"},\n {'text': \"<bos><start_of_turn>user\\nAre there any herbal remedies that are safe to use for morning sickness?<end_of_turn>\\n<start_of_turn>model\\nSome herbal remedies, like peppermint and lemon balm, may help alleviate morning sickness symptoms. However, it's essential to consult with your healthcare provider before using any herbal remedies during pregnancy.<end_of_turn>\\n\"},\n {'text': '<bos><start_of_turn>user\\nCan I practice prenatal yoga?<end_of_turn>\\n<start_of_turn>model\\nPrenatal yoga is specifically designed to accommodate the changing body during pregnancy. It focuses on strength, flexibility, and relaxation techniques.<end_of_turn>\\n'},\n {'text': \"<bos><start_of_turn>user\\nMy family doesn't support my decision to be a stay-at-home mom. How can I deal with this stress?<end_of_turn>\\n<start_of_turn>model\\nDeciding on the type of parenthood you want is a personal choice. Communicate your decision to your family with confidence and, if needed, seek support from other stay-at-home parents or online communities.<end_of_turn>\\n\"},\n {'text': \"<bos><start_of_turn>user\\nWhat's the ideal room temperature during labor?<end_of_turn>\\n<start_of_turn>model\\nAim for a comfortable room temperature, around 68 to 72 degrees Fahrenheit (20 to 22 degrees Celsius). Avoid drafts or direct air conditioning.<end_of_turn>\\n\"},\n {'text': '<bos><start_of_turn>user\\nWhat exercises should I avoid during pregnancy?<end_of_turn>\\n<start_of_turn>model\\nCertain exercises, such as contact sports, high-impact aerobics, and those involving lying flat on your back, should be avoided during pregnancy. Always listen to your body and consult with your healthcare provider.<end_of_turn>\\n'},\n {'text': '<bos><start_of_turn>user\\nCan I continue my usual fitness routine?<end_of_turn>\\n<start_of_turn>model\\nConsult with your healthcare provider before continuing your usual fitness routine during pregnancy. Some exercises may need to be modified to ensure safety for you and your baby.<end_of_turn>\\n'},\n {'text': \"<bos><start_of_turn>user\\nWhat's the best way to cope with morning sickness at work?<end_of_turn>\\n<start_of_turn>model\\nConsider having small, frequent meals and staying hydrated. Keep a small snack with you and discuss your situation with your employer to see if accommodations can be made.<end_of_turn>\\n\"},\n {'text': \"<bos><start_of_turn>user\\nHow can I prevent dehydration when I'm experiencing morning sickness?<end_of_turn>\\n<start_of_turn>model\\nStaying hydrated is key. Try sipping on water, herbal teas, or clear broths throughout the day. If you're unable to keep fluids down, seek advice from your healthcare provider.<end_of_turn>\\n\"},\n {'text': '<bos><start_of_turn>user\\nCan stress affect my morning sickness?<end_of_turn>\\n<start_of_turn>model\\nStress can exacerbate morning sickness. Engaging in stress-reduction techniques such as deep breathing, meditation, or gentle yoga may help. Always discuss your concerns with your healthcare provider.<end_of_turn>\\n'},\n {'text': \"<bos><start_of_turn>user\\nWhat's the best way to manage labor pain?<end_of_turn>\\n<start_of_turn>model\\nThere are several pain management options, including breathing techniques, relaxation methods, water birth, and pain medication. Discuss these options with your healthcare provider to create a birth plan that suits you.<end_of_turn>\\n\"},\n {'text': \"<bos><start_of_turn>user\\nCan acupuncture help with morning sickness?<end_of_turn>\\n<start_of_turn>model\\nAcupuncture has been used to help manage morning sickness symptoms for some women. It's important to find a licensed practitioner experienced in treating pregnant patients. Discuss this option with your healthcare provider.<end_of_turn>\\n\"},\n {'text': '<bos><start_of_turn>user\\nHow can I cope with the physical changes during pregnancy?<end_of_turn>\\n<start_of_turn>model\\nCoping with physical changes during pregnancy can include staying active with gentle exercises, practicing good posture, and maintaining a balanced diet. Seek guidance from your healthcare provider for any concerns.<end_of_turn>\\n'},\n {'text': \"<bos><start_of_turn>user\\nCan I have a water birth?<end_of_turn>\\n<start_of_turn>model\\nWater births can be a soothing option for some women, but it's important to discuss the benefits, risks, and requirements with your healthcare provider to determine if it's suitable for you.<end_of_turn>\\n\"},\n {'text': '<bos><start_of_turn>user\\nWhat are some safe positions for giving birth?<end_of_turn>\\n<start_of_turn>model\\nVarious positions, such as squatting, lying on your side, or being on all fours, can be comfortable and facilitate the birthing process. Discuss with your healthcare provider to find the best position for you.<end_of_turn>\\n'},\n {'text': \"<bos><start_of_turn>user\\nCan I eat or drink before labor?<end_of_turn>\\n<start_of_turn>model\\nIt's recommended to stay hydrated and have light snacks before labor. Avoid consuming large meals or alcohol. Discuss specific dietary guidelines with your healthcare provider.<end_of_turn>\\n\"},\n {'text': '<bos><start_of_turn>user\\nCan prenatal vitamins cause side effects?<end_of_turn>\\n<start_of_turn>model\\nSome common side effects of prenatal vitamins can include constipation, nausea, and headaches. If you experience any side effects, speak with your healthcare provider.<end_of_turn>\\n'},\n {'text': \"<bos><start_of_turn>user\\nAre prenatal vitamins safe to take?<end_of_turn>\\n<start_of_turn>model\\nPrenatal vitamins are generally safe when taken as directed by your healthcare provider. However, some vitamins may require medical supervision, so it's important to discuss your vitamin regimen with your healthcare provider.<end_of_turn>\\n\"},\n {'text': '<bos><start_of_turn>user\\nIs it safe to do aerobics during pregnancy?<end_of_turn>\\n<start_of_turn>model\\nLight aerobic exercises, such as brisk walking or stationary cycling, can be safe during pregnancy. Avoid high-impact activities and focus on low-impact exercises to reduce the risk of injury.<end_of_turn>\\n'},\n {'text': \"<bos><start_of_turn>user\\nWhat are some positive affirmations I can use during pregnancy?<end_of_turn>\\n<start_of_turn>model\\nRemembering to speak kindly to yourself can be very empowering. Affirmations such as 'I am capable and strong' or 'I trust my body and the process' can help reduce anxiety.<end_of_turn>\\n\"},\n {'text': '<bos><start_of_turn>user\\nShould I have a doula?<end_of_turn>\\n<start_of_turn>model\\nA doula can provide continuous support during labor and delivery, helping to create a calming environment and advocate for your birth preferences. Consider discussing this option with your healthcare provider.<end_of_turn>\\n'},\n {'text': \"<bos><start_of_turn>user\\nHow can I maintain my energy levels during pregnancy?<end_of_turn>\\n<start_of_turn>model\\nMaintaining energy levels during pregnancy can involve staying hydrated, eating small, frequent meals, and getting adequate rest. If you're feeling fatigued, consult your healthcare provider.<end_of_turn>\\n\"},\n {'text': \"<bos><start_of_turn>user\\nWhat if I'm allergic to certain vitamins?<end_of_turn>\\n<start_of_turn>model\\nIf you're allergic to specific vitamins or ingredients in prenatal vitamins, discuss alternative options with your healthcare provider. There are many brands and formulas to choose from.<end_of_turn>\\n\"},\n {'text': \"<bos><start_of_turn>user\\nI'm having trouble sleeping because I'm worried about labor. Any advice?<end_of_turn>\\n<start_of_turn>model\\nEstablish a relaxing bedtime routine, try using a pregnancy pillow, and limit caffeine intake. Talk to your healthcare provider about any specific concerns you have about labor.<end_of_turn>\\n\"},\n {'text': \"<bos><start_of_turn>user\\nI'm worried about morning sickness. Any tips?<end_of_turn>\\n<start_of_turn>model\\nThere are several strategies to help manage morning sickness, such as eating small, frequent meals, avoiding strong odors, and ginger can be soothing. Always speak to your healthcare provider for personalized advice.<end_of_turn>\\n\"},\n {'text': \"<bos><start_of_turn>user\\nCan I get prenatal vitamins over the counter?<end_of_turn>\\n<start_of_turn>model\\nPrenatal vitamins are available over the counter, but it's crucial to choose a reputable brand and ensure it's formulated for pregnancy. Consult with your healthcare provider to confirm the best option for your needs.<end_of_turn>\\n\"},\n {'text': '<bos><start_of_turn>user\\nWhat are some foods that are safe to eat during pregnancy?<end_of_turn>\\n<start_of_turn>model\\nSafe foods to eat during pregnancy include fruits, vegetables, lean proteins, and whole grains. Avoid raw or undercooked meats, unpasteurized dairy, and high-mercury fish.<end_of_turn>\\n'},\n {'text': \"<bos><start_of_turn>user\\nWhat should I know about prenatal vitamins?<end_of_turn>\\n<start_of_turn>model\\nPrenatal vitamins are crucial for your baby's development and can help prevent certain birth defects. Make sure to choose a reputable brand and discuss with your healthcare provider to find the best option for you.<end_of_turn>\\n\"},\n {'text': \"<bos><start_of_turn>user\\nHow do I choose a birthing class?<end_of_turn>\\n<start_of_turn>model\\nLook for classes that suit your birth plan preferences and fit your schedule. Ask about the instructors' qualifications and read reviews from other parents.<end_of_turn>\\n\"},\n {'text': \"<bos><start_of_turn>user\\nWhat's the best time to start taking prenatal vitamins?<end_of_turn>\\n<start_of_turn>model\\nThe best time to start taking prenatal vitamins is before conception and during pregnancy. This helps to support the baby's development and the mother's health.<end_of_turn>\\n\"},\n {'text': \"<bos><start_of_turn>user\\nHow can I relax when my baby starts crying?<end_of_turn>\\n<start_of_turn>model\\nWhen your baby cries, it's a natural response to care for your child. Take deep breaths, hold your baby, and try to understand their needs. Remember, it's okay to take a break and ask for help from a partner or friend.<end_of_turn>\\n\"},\n {'text': '<bos><start_of_turn>user\\nWhat are some relaxation techniques that can help with morning sickness?<end_of_turn>\\n<start_of_turn>model\\nRelaxation techniques like deep breathing, meditation, and prenatal yoga may help reduce stress and potentially alleviate morning sickness symptoms. Discuss these options with your healthcare provider.<end_of_turn>\\n'},\n {'text': \"<bos><start_of_turn>user\\nHow much prenatal vitamin should I take?<end_of_turn>\\n<start_of_turn>model\\nThe recommended daily amount of prenatal vitamins varies depending on your specific needs and healthcare provider's advice. Generally, one to two prenatal vitamins daily are sufficient, but consult with your healthcare provider for personalized guidance.<end_of_turn>\\n\"},\n {'text': '<bos><start_of_turn>user\\nAre swimming good for my pregnancy?<end_of_turn>\\n<start_of_turn>model\\nSwimming is an excellent low-impact exercise for pregnancy. It can help improve your overall fitness and relieve stress without putting strain on your joints.<end_of_turn>\\n'},\n {'text': '<bos><start_of_turn>user\\nCan I do prenatal pilates?<end_of_turn>\\n<start_of_turn>model\\nPrenatal Pilates can be a safe and effective form of exercise during pregnancy, focusing on strength, flexibility, and breathing techniques. Consider enrolling in prenatal Pilates classes for tailored guidance.<end_of_turn>\\n'},\n {'text': '<bos><start_of_turn>user\\nAre there any medications that are safe for morning sickness?<end_of_turn>\\n<start_of_turn>model\\nSome medications are considered safe during pregnancy for morning sickness, but others may pose risks. Your healthcare provider can guide you on safe medication options.<end_of_turn>\\n'},\n {'text': \"<bos><start_of_turn>user\\nMy partner and I are worried about the baby's health. How can we stay calm?<end_of_turn>\\n<start_of_turn>model\\nIt's natural to feel worried. Consider reading about common pregnancy complications and symptoms, and remember that most babies are born healthy. It's important to communicate openly with your partner and healthcare provider.<end_of_turn>\\n\"},\n {'text': '<bos><start_of_turn>user\\nAre prenatal vitamins necessary for everyone?<end_of_turn>\\n<start_of_turn>model\\nWhile prenatal vitamins can be beneficial for most pregnant individuals, they are not a one-size-fits-all solution. Your healthcare provider can help determine if prenatal vitamins are necessary based on your individual health and dietary needs.<end_of_turn>\\n'},\n {'text': \"<bos><start_of_turn>user\\nWhat should I do if I'm experiencing extreme morning sickness?<end_of_turn>\\n<start_of_turn>model\\nExtreme morning sickness, also known as hyperemesis gravidarum, may require medical intervention. Contact your healthcare provider if you're unable to keep fluids down or if your symptoms persist.<end_of_turn>\\n\"}]"
          },
          "metadata": {}
        }
      ],
      "execution_count": null
    },
    {
      "id": "1dd80bd6-d957-4004-bea3-c4fd824766da",
      "cell_type": "code",
      "source": [
        "# converting tho dataset\n",
        "from datasets import Dataset\n",
        "train_dataset = Dataset.from_list(train)\n",
        "eval_dataset = Dataset.from_list(test)"
      ],
      "metadata": {
        "trusted": true,
        "execution": {
          "iopub.status.busy": "2025-08-05T23:42:29.268261Z",
          "iopub.execute_input": "2025-08-05T23:42:29.268849Z",
          "iopub.status.idle": "2025-08-05T23:42:29.309123Z",
          "shell.execute_reply.started": "2025-08-05T23:42:29.268825Z",
          "shell.execute_reply": "2025-08-05T23:42:29.308436Z"
        },
        "id": "1dd80bd6-d957-4004-bea3-c4fd824766da"
      },
      "outputs": [],
      "execution_count": null
    },
    {
      "id": "c679c5d7-c207-4d82-bcb5-2ee6f32df4d1",
      "cell_type": "markdown",
      "source": [
        "## Modelling"
      ],
      "metadata": {
        "id": "c679c5d7-c207-4d82-bcb5-2ee6f32df4d1"
      }
    },
    {
      "id": "8735a8a9",
      "cell_type": "code",
      "source": [
        "# hyperparameters\n",
        "model = FastModel.get_peft_model(\n",
        "    model,\n",
        "    finetune_vision_layers     = False, # Turn off for just text!\n",
        "    finetune_language_layers   = True,  # Should leave on!\n",
        "    finetune_attention_modules = True,  # Attention good for GRPO\n",
        "    finetune_mlp_modules       = True,  # Should leave on always!\n",
        "\n",
        "    r = 8,           # Larger = higher accuracy, but might overfit\n",
        "    lora_alpha = 8,  # Recommended alpha == r at least\n",
        "    lora_dropout = 0,\n",
        "    bias = \"none\",\n",
        "    random_state = 3407,\n",
        ")"
      ],
      "metadata": {
        "papermill": {
          "duration": null,
          "end_time": null,
          "exception": null,
          "start_time": null,
          "status": "pending"
        },
        "tags": [],
        "trusted": true,
        "execution": {
          "iopub.status.busy": "2025-08-05T23:42:32.372088Z",
          "iopub.execute_input": "2025-08-05T23:42:32.372372Z",
          "iopub.status.idle": "2025-08-05T23:42:37.681858Z",
          "shell.execute_reply.started": "2025-08-05T23:42:32.372349Z",
          "shell.execute_reply": "2025-08-05T23:42:37.681255Z"
        },
        "id": "8735a8a9",
        "outputId": "a32f30bf-13c3-4df7-e242-9d2f94b43545"
      },
      "outputs": [
        {
          "name": "stdout",
          "text": "Unsloth: Making `model.base_model.model.model.language_model` require gradients\n",
          "output_type": "stream"
        }
      ],
      "execution_count": null
    },
    {
      "id": "3d2f20b9",
      "cell_type": "code",
      "source": [
        "# training configurations\n",
        "from trl import SFTTrainer, SFTConfig\n",
        "trainer = SFTTrainer(\n",
        "    model = model,\n",
        "    use_cache = False,\n",
        "    tokenizer = tokenizer,\n",
        "    train_dataset = train_dataset,\n",
        "    eval_dataset = eval_dataset, # Can set up evaluation!\n",
        "    args = SFTConfig(\n",
        "        dataset_text_field = \"text\",\n",
        "        per_device_train_batch_size = 1,\n",
        "        gradient_accumulation_steps = 4, # Use GA to mimic batch size!\n",
        "        warmup_steps = 5,\n",
        "        #num_train_epochs = 1, # Set this for 1 full training run.\n",
        "        max_steps = 75,       learning_rate = 2e-4, # Reduce to 2e-5 for long training runs\n",
        "        logging_steps = 1,\n",
        "        optim = \"paged_adamw_8bit\",\n",
        "        weight_decay = 0.01,\n",
        "        lr_scheduler_type = \"linear\",\n",
        "\n",
        "        seed = 3407,\n",
        "        report_to = \"none\", # Use this for WandB etc\n",
        "    ),\n",
        ")"
      ],
      "metadata": {
        "papermill": {
          "duration": null,
          "end_time": null,
          "exception": null,
          "start_time": null,
          "status": "pending"
        },
        "tags": [],
        "trusted": true,
        "execution": {
          "iopub.status.busy": "2025-08-05T23:42:37.683104Z",
          "iopub.execute_input": "2025-08-05T23:42:37.683335Z",
          "iopub.status.idle": "2025-08-05T23:42:45.325325Z",
          "shell.execute_reply.started": "2025-08-05T23:42:37.683311Z",
          "shell.execute_reply": "2025-08-05T23:42:45.324463Z"
        },
        "colab": {
          "referenced_widgets": [
            "0db3f46dd1274cf5aabe99b142431d3d",
            "d611e53533764708a6f4cfb5b225e21f"
          ]
        },
        "id": "3d2f20b9",
        "outputId": "a1244cf6-e6fc-4d96-9d55-df24544e06ee"
      },
      "outputs": [
        {
          "output_type": "display_data",
          "data": {
            "text/plain": "Unsloth: Tokenizing [\"text\"] (num_proc=2):   0%|          | 0/93 [00:00<?, ? examples/s]",
            "application/vnd.jupyter.widget-view+json": {
              "version_major": 2,
              "version_minor": 0,
              "model_id": "0db3f46dd1274cf5aabe99b142431d3d"
            }
          },
          "metadata": {}
        },
        {
          "output_type": "display_data",
          "data": {
            "text/plain": "Unsloth: Tokenizing [\"text\"] (num_proc=2):   0%|          | 0/3 [00:00<?, ? examples/s]",
            "application/vnd.jupyter.widget-view+json": {
              "version_major": 2,
              "version_minor": 0,
              "model_id": "d611e53533764708a6f4cfb5b225e21f"
            }
          },
          "metadata": {}
        }
      ],
      "execution_count": null
    },
    {
      "id": "0c62f9b7",
      "cell_type": "code",
      "source": [
        "# Import the helper function from Unsloth to modify the trainer's formatting behavior\n",
        "from unsloth.chat_templates import train_on_responses_only\n",
        "\n",
        "# Reconfigure the trainer to train only on the assistant's (model's) responses,\n",
        "# ignoring the user input when calculating loss. This is useful for fine-tuning\n",
        "# where we want the model to learn to generate helpful replies.\n",
        "trainer = train_on_responses_only(\n",
        "    trainer,  # The original Trainer object from Hugging Face\n",
        "    instruction_part = \"<start_of_turn>user\\n\",   # Marks the beginning of the user prompt\n",
        "    response_part    = \"<start_of_turn>model\\n\",  # Marks the beginning of the assistant's response\n",
        ")\n"
      ],
      "metadata": {
        "papermill": {
          "duration": null,
          "end_time": null,
          "exception": null,
          "start_time": null,
          "status": "pending"
        },
        "tags": [],
        "trusted": true,
        "execution": {
          "iopub.status.busy": "2025-08-05T23:42:45.326298Z",
          "iopub.execute_input": "2025-08-05T23:42:45.326525Z",
          "iopub.status.idle": "2025-08-05T23:42:46.293490Z",
          "shell.execute_reply.started": "2025-08-05T23:42:45.326500Z",
          "shell.execute_reply": "2025-08-05T23:42:46.292753Z"
        },
        "colab": {
          "referenced_widgets": [
            "ba13f5d10e374db09253743313736181",
            "8eaad076e7a2499a8a043d55c0aca44f"
          ]
        },
        "id": "0c62f9b7",
        "outputId": "287a6f9c-c763-443f-80c0-ddb320a64998"
      },
      "outputs": [
        {
          "output_type": "display_data",
          "data": {
            "text/plain": "Map (num_proc=4):   0%|          | 0/93 [00:00<?, ? examples/s]",
            "application/vnd.jupyter.widget-view+json": {
              "version_major": 2,
              "version_minor": 0,
              "model_id": "ba13f5d10e374db09253743313736181"
            }
          },
          "metadata": {}
        },
        {
          "name": "stderr",
          "text": "num_proc must be <= 3. Reducing num_proc to 3 for dataset of size 3.\n",
          "output_type": "stream"
        },
        {
          "output_type": "display_data",
          "data": {
            "text/plain": "Map (num_proc=3):   0%|          | 0/3 [00:00<?, ? examples/s]",
            "application/vnd.jupyter.widget-view+json": {
              "version_major": 2,
              "version_minor": 0,
              "model_id": "8eaad076e7a2499a8a043d55c0aca44f"
            }
          },
          "metadata": {}
        }
      ],
      "execution_count": null
    },
    {
      "id": "71217240",
      "cell_type": "code",
      "source": [
        "# viewing one row of the datatset\n",
        "tokenizer.decode(trainer.train_dataset[10][\"input_ids\"])"
      ],
      "metadata": {
        "execution": {
          "iopub.status.busy": "2025-08-05T23:42:46.295279Z",
          "iopub.execute_input": "2025-08-05T23:42:46.295517Z",
          "iopub.status.idle": "2025-08-05T23:42:46.301659Z",
          "shell.execute_reply.started": "2025-08-05T23:42:46.295493Z",
          "shell.execute_reply": "2025-08-05T23:42:46.301006Z"
        },
        "papermill": {
          "duration": null,
          "end_time": null,
          "exception": null,
          "start_time": null,
          "status": "pending"
        },
        "tags": [],
        "trusted": true,
        "id": "71217240",
        "outputId": "f0879b74-e044-4adf-e62d-baeb60c0754c"
      },
      "outputs": [
        {
          "execution_count": 21,
          "output_type": "execute_result",
          "data": {
            "text/plain": "\"<bos><bos><start_of_turn>user\\nI'm worried about the changes my body will go through during pregnancy. What can I do?<end_of_turn>\\n<start_of_turn>model\\nIt's natural to feel anxious about physical changes during pregnancy. Stay informed about what to expect, maintain a healthy lifestyle, and remember that your body is doing an amazing job.<end_of_turn>\\n\""
          },
          "metadata": {}
        }
      ],
      "execution_count": null
    },
    {
      "id": "dc4a5a3f-de67-4fca-8bb0-ed51a277e29a",
      "cell_type": "code",
      "source": [
        "train_dataset"
      ],
      "metadata": {
        "trusted": true,
        "execution": {
          "iopub.status.busy": "2025-08-05T23:42:46.302363Z",
          "iopub.execute_input": "2025-08-05T23:42:46.302566Z",
          "iopub.status.idle": "2025-08-05T23:42:46.318582Z",
          "shell.execute_reply.started": "2025-08-05T23:42:46.302547Z",
          "shell.execute_reply": "2025-08-05T23:42:46.318010Z"
        },
        "id": "dc4a5a3f-de67-4fca-8bb0-ed51a277e29a",
        "outputId": "4119ac2b-9b31-49f4-8941-07b19d8911f8"
      },
      "outputs": [
        {
          "execution_count": 22,
          "output_type": "execute_result",
          "data": {
            "text/plain": "Dataset({\n    features: ['text'],\n    num_rows: 93\n})"
          },
          "metadata": {}
        }
      ],
      "execution_count": null
    },
    {
      "id": "ad3f68da",
      "cell_type": "code",
      "source": [
        "# @title Show current memory stats\n",
        "import gc\n",
        "gc.collect()\n",
        "torch.cuda.empty_cache()\n",
        "gpu_stats = torch.cuda.get_device_properties(0)\n",
        "start_gpu_memory = round(torch.cuda.max_memory_reserved() / 1024 / 1024 / 1024, 3)\n",
        "max_memory = round(gpu_stats.total_memory / 1024 / 1024 / 1024, 3)\n",
        "print(f\"GPU = {gpu_stats.name}. Max memory = {max_memory} GB.\")\n",
        "print(f\"{start_gpu_memory} GB of memory reserved.\")"
      ],
      "metadata": {
        "papermill": {
          "duration": null,
          "end_time": null,
          "exception": null,
          "start_time": null,
          "status": "pending"
        },
        "tags": [],
        "trusted": true,
        "execution": {
          "iopub.status.busy": "2025-08-05T23:42:46.319365Z",
          "iopub.execute_input": "2025-08-05T23:42:46.319590Z",
          "iopub.status.idle": "2025-08-05T23:42:47.006868Z",
          "shell.execute_reply.started": "2025-08-05T23:42:46.319567Z",
          "shell.execute_reply": "2025-08-05T23:42:47.006260Z"
        },
        "id": "ad3f68da",
        "outputId": "42c076d3-a112-426f-f45e-026abcbb5ebd"
      },
      "outputs": [
        {
          "name": "stdout",
          "text": "GPU = Tesla T4. Max memory = 14.741 GB.\n10.988 GB of memory reserved.\n",
          "output_type": "stream"
        }
      ],
      "execution_count": null
    },
    {
      "id": "a59eee49",
      "cell_type": "code",
      "source": [
        "#for memory conservation\n",
        "import torch\n",
        "torch._dynamo.config.cache_size_limit = 128  # or 256, or 512 depending on your RAM\n"
      ],
      "metadata": {
        "papermill": {
          "duration": null,
          "end_time": null,
          "exception": null,
          "start_time": null,
          "status": "pending"
        },
        "tags": [],
        "trusted": true,
        "execution": {
          "iopub.status.busy": "2025-08-05T23:42:47.008292Z",
          "iopub.execute_input": "2025-08-05T23:42:47.008543Z",
          "iopub.status.idle": "2025-08-05T23:42:47.022088Z",
          "shell.execute_reply.started": "2025-08-05T23:42:47.008527Z",
          "shell.execute_reply": "2025-08-05T23:42:47.021559Z"
        },
        "id": "a59eee49"
      },
      "outputs": [],
      "execution_count": null
    },
    {
      "id": "f9eb9d19",
      "cell_type": "code",
      "source": [
        "# training\n",
        "trainer_stats = trainer.train()"
      ],
      "metadata": {
        "papermill": {
          "duration": null,
          "end_time": null,
          "exception": null,
          "start_time": null,
          "status": "pending"
        },
        "tags": [],
        "trusted": true,
        "execution": {
          "iopub.status.busy": "2025-08-05T23:42:48.882787Z",
          "iopub.execute_input": "2025-08-05T23:42:48.883069Z",
          "iopub.status.idle": "2025-08-05T23:49:47.408125Z",
          "shell.execute_reply.started": "2025-08-05T23:42:48.883045Z",
          "shell.execute_reply": "2025-08-05T23:49:47.407549Z"
        },
        "id": "f9eb9d19",
        "outputId": "6acbffee-5ac3-486e-a074-df2a1c739bd8"
      },
      "outputs": [
        {
          "name": "stderr",
          "text": "==((====))==  Unsloth - 2x faster free finetuning | Num GPUs used = 1\n   \\\\   /|    Num examples = 93 | Num Epochs = 4 | Total steps = 75\nO^O/ \\_/ \\    Batch size per device = 1 | Gradient accumulation steps = 4\n\\        /    Data Parallel GPUs = 1 | Total batch size (1 x 4 x 1) = 4\n \"-____-\"     Trainable parameters = 10,567,680 of 5,450,005,952 (0.19% trained)\n`use_cache=True` is incompatible with gradient checkpointing. Setting `use_cache=False`.\n",
          "output_type": "stream"
        },
        {
          "output_type": "display_data",
          "data": {
            "text/plain": "<IPython.core.display.HTML object>",
            "text/html": "\n    <div>\n      \n      <progress value='75' max='75' style='width:300px; height:20px; vertical-align: middle;'></progress>\n      [75/75 05:24, Epoch 3/4]\n    </div>\n    <table border=\"1\" class=\"dataframe\">\n  <thead>\n <tr style=\"text-align: left;\">\n      <th>Step</th>\n      <th>Training Loss</th>\n    </tr>\n  </thead>\n  <tbody>\n    <tr>\n      <td>1</td>\n      <td>9.636200</td>\n    </tr>\n    <tr>\n      <td>2</td>\n      <td>8.805900</td>\n    </tr>\n    <tr>\n      <td>3</td>\n      <td>9.066600</td>\n    </tr>\n    <tr>\n      <td>4</td>\n      <td>9.549700</td>\n    </tr>\n    <tr>\n      <td>5</td>\n      <td>11.354500</td>\n    </tr>\n    <tr>\n      <td>6</td>\n      <td>10.471600</td>\n    </tr>\n    <tr>\n      <td>7</td>\n      <td>10.450900</td>\n    </tr>\n    <tr>\n      <td>8</td>\n      <td>10.001900</td>\n    </tr>\n    <tr>\n      <td>9</td>\n      <td>11.129600</td>\n    </tr>\n    <tr>\n      <td>10</td>\n      <td>10.481000</td>\n    </tr>\n    <tr>\n      <td>11</td>\n      <td>11.138300</td>\n    </tr>\n    <tr>\n      <td>12</td>\n      <td>10.639000</td>\n    </tr>\n    <tr>\n      <td>13</td>\n      <td>10.546300</td>\n    </tr>\n    <tr>\n      <td>14</td>\n      <td>9.572600</td>\n    </tr>\n    <tr>\n      <td>15</td>\n      <td>8.808700</td>\n    </tr>\n    <tr>\n      <td>16</td>\n      <td>10.037300</td>\n    </tr>\n    <tr>\n      <td>17</td>\n      <td>8.986700</td>\n    </tr>\n    <tr>\n      <td>18</td>\n      <td>10.745500</td>\n    </tr>\n    <tr>\n      <td>19</td>\n      <td>3.818300</td>\n    </tr>\n    <tr>\n      <td>20</td>\n      <td>3.677500</td>\n    </tr>\n    <tr>\n      <td>21</td>\n      <td>3.144200</td>\n    </tr>\n    <tr>\n      <td>22</td>\n      <td>3.186400</td>\n    </tr>\n    <tr>\n      <td>23</td>\n      <td>2.723100</td>\n    </tr>\n    <tr>\n      <td>24</td>\n      <td>2.786800</td>\n    </tr>\n    <tr>\n      <td>25</td>\n      <td>2.619600</td>\n    </tr>\n    <tr>\n      <td>26</td>\n      <td>2.292200</td>\n    </tr>\n    <tr>\n      <td>27</td>\n      <td>2.807600</td>\n    </tr>\n    <tr>\n      <td>28</td>\n      <td>2.399000</td>\n    </tr>\n    <tr>\n      <td>29</td>\n      <td>2.794900</td>\n    </tr>\n    <tr>\n      <td>30</td>\n      <td>2.668400</td>\n    </tr>\n    <tr>\n      <td>31</td>\n      <td>2.380500</td>\n    </tr>\n    <tr>\n      <td>32</td>\n      <td>2.299600</td>\n    </tr>\n    <tr>\n      <td>33</td>\n      <td>1.855700</td>\n    </tr>\n    <tr>\n      <td>34</td>\n      <td>1.946500</td>\n    </tr>\n    <tr>\n      <td>35</td>\n      <td>1.844700</td>\n    </tr>\n    <tr>\n      <td>36</td>\n      <td>1.810200</td>\n    </tr>\n    <tr>\n      <td>37</td>\n      <td>1.738300</td>\n    </tr>\n    <tr>\n      <td>38</td>\n      <td>1.924700</td>\n    </tr>\n    <tr>\n      <td>39</td>\n      <td>1.733300</td>\n    </tr>\n    <tr>\n      <td>40</td>\n      <td>1.691400</td>\n    </tr>\n    <tr>\n      <td>41</td>\n      <td>1.641600</td>\n    </tr>\n    <tr>\n      <td>42</td>\n      <td>1.861100</td>\n    </tr>\n    <tr>\n      <td>43</td>\n      <td>1.821400</td>\n    </tr>\n    <tr>\n      <td>44</td>\n      <td>1.923600</td>\n    </tr>\n    <tr>\n      <td>45</td>\n      <td>1.820800</td>\n    </tr>\n    <tr>\n      <td>46</td>\n      <td>1.625900</td>\n    </tr>\n    <tr>\n      <td>47</td>\n      <td>1.441800</td>\n    </tr>\n    <tr>\n      <td>48</td>\n      <td>1.634700</td>\n    </tr>\n    <tr>\n      <td>49</td>\n      <td>1.317600</td>\n    </tr>\n    <tr>\n      <td>50</td>\n      <td>1.232700</td>\n    </tr>\n    <tr>\n      <td>51</td>\n      <td>1.082200</td>\n    </tr>\n    <tr>\n      <td>52</td>\n      <td>1.048000</td>\n    </tr>\n    <tr>\n      <td>53</td>\n      <td>1.346900</td>\n    </tr>\n    <tr>\n      <td>54</td>\n      <td>1.414100</td>\n    </tr>\n    <tr>\n      <td>55</td>\n      <td>1.144600</td>\n    </tr>\n    <tr>\n      <td>56</td>\n      <td>1.455600</td>\n    </tr>\n    <tr>\n      <td>57</td>\n      <td>1.405200</td>\n    </tr>\n    <tr>\n      <td>58</td>\n      <td>1.004400</td>\n    </tr>\n    <tr>\n      <td>59</td>\n      <td>1.128400</td>\n    </tr>\n    <tr>\n      <td>60</td>\n      <td>1.332500</td>\n    </tr>\n    <tr>\n      <td>61</td>\n      <td>1.221900</td>\n    </tr>\n    <tr>\n      <td>62</td>\n      <td>1.167900</td>\n    </tr>\n    <tr>\n      <td>63</td>\n      <td>1.441200</td>\n    </tr>\n    <tr>\n      <td>64</td>\n      <td>1.221100</td>\n    </tr>\n    <tr>\n      <td>65</td>\n      <td>1.298300</td>\n    </tr>\n    <tr>\n      <td>66</td>\n      <td>1.116700</td>\n    </tr>\n    <tr>\n      <td>67</td>\n      <td>1.016800</td>\n    </tr>\n    <tr>\n      <td>68</td>\n      <td>1.281900</td>\n    </tr>\n    <tr>\n      <td>69</td>\n      <td>1.194900</td>\n    </tr>\n    <tr>\n      <td>70</td>\n      <td>1.057200</td>\n    </tr>\n    <tr>\n      <td>71</td>\n      <td>1.046600</td>\n    </tr>\n    <tr>\n      <td>72</td>\n      <td>0.902600</td>\n    </tr>\n    <tr>\n      <td>73</td>\n      <td>0.696400</td>\n    </tr>\n    <tr>\n      <td>74</td>\n      <td>0.691900</td>\n    </tr>\n    <tr>\n      <td>75</td>\n      <td>0.710200</td>\n    </tr>\n  </tbody>\n</table><p>"
          },
          "metadata": {}
        }
      ],
      "execution_count": null
    },
    {
      "id": "4a3b719b",
      "cell_type": "code",
      "source": [
        "#@title Show final memory and time stats\n",
        "gc.collect()\n",
        "torch.cuda.empty_cache()\n",
        "used_memory = round(torch.cuda.max_memory_reserved() / 1024 / 1024 / 1024, 3)\n",
        "used_memory_for_lora = round(used_memory - start_gpu_memory, 3)\n",
        "used_percentage = round(used_memory / max_memory * 100, 3)\n",
        "lora_percentage = round(used_memory_for_lora / max_memory * 100, 3)\n",
        "print(f\"{trainer_stats.metrics['train_runtime']} seconds used for training.\")\n",
        "print(f\"{round(trainer_stats.metrics['train_runtime']/60, 2)} minutes used for training.\"\n",
        ")\n",
        "print(f\"Peak reserved memory = {used_memory} GB.\")\n",
        "print(f\"Peak reserved memory for training = {used_memory_for_lora} GB.\")\n",
        "print(f\"Peak reserved memory % of max memory = {used_percentage} %.\")\n",
        "print(f\"Peak reserved memory for training % of max memory = {lora_percentage} %.\")"
      ],
      "metadata": {
        "papermill": {
          "duration": null,
          "end_time": null,
          "exception": null,
          "start_time": null,
          "status": "pending"
        },
        "tags": [],
        "trusted": true,
        "execution": {
          "iopub.status.busy": "2025-08-05T23:49:47.409318Z",
          "iopub.execute_input": "2025-08-05T23:49:47.409569Z",
          "iopub.status.idle": "2025-08-05T23:49:48.455615Z",
          "shell.execute_reply.started": "2025-08-05T23:49:47.409551Z",
          "shell.execute_reply": "2025-08-05T23:49:48.454933Z"
        },
        "id": "4a3b719b",
        "outputId": "4c1c8b38-e156-4ff4-d5de-d1a174fb1484"
      },
      "outputs": [
        {
          "name": "stdout",
          "text": "414.9291 seconds used for training.\n6.92 minutes used for training.\nPeak reserved memory = 10.988 GB.\nPeak reserved memory for training = 0.0 GB.\nPeak reserved memory % of max memory = 74.54 %.\nPeak reserved memory for training % of max memory = 0.0 %.\n",
          "output_type": "stream"
        }
      ],
      "execution_count": null
    },
    {
      "id": "b4aab56a",
      "cell_type": "code",
      "source": [
        "messages = [\n",
        "    {\n",
        "        \"role\": \"user\",\n",
        "        \"content\": [{\"type\": \"text\", \"text\": \"How do I detect signs of postpartum complications?\"}]\n",
        "    }\n",
        "]\n"
      ],
      "metadata": {
        "papermill": {
          "duration": null,
          "end_time": null,
          "exception": null,
          "start_time": null,
          "status": "pending"
        },
        "tags": [],
        "trusted": true,
        "execution": {
          "iopub.status.busy": "2025-08-06T00:49:01.998462Z",
          "iopub.execute_input": "2025-08-06T00:49:01.998746Z",
          "iopub.status.idle": "2025-08-06T00:49:02.002525Z",
          "shell.execute_reply.started": "2025-08-06T00:49:01.998725Z",
          "shell.execute_reply": "2025-08-06T00:49:02.001928Z"
        },
        "id": "b4aab56a"
      },
      "outputs": [],
      "execution_count": null
    },
    {
      "id": "0f5c56f4",
      "cell_type": "code",
      "source": [
        "from unsloth.chat_templates import get_chat_template\n",
        "tokenizer = get_chat_template(\n",
        "    tokenizer,\n",
        "    chat_template = \"gemma-3\",\n",
        ")\n",
        "\n",
        "inputs = tokenizer.apply_chat_template(\n",
        "    messages,\n",
        "    add_generation_prompt = True, # Must add for generation\n",
        "    return_tensors = \"pt\",\n",
        "    tokenize = True,\n",
        "    return_dict = True,\n",
        ").to(\"cuda\")\n",
        "outputs = model.generate(\n",
        "    **inputs,\n",
        "    max_new_tokens = 256, # Increase for longer outputs!\n",
        "    # Recommended Gemma-3 settings!\n",
        "    temperature = 1.0, top_p = 0.95, top_k = 64,\n",
        ")\n",
        "final = tokenizer.batch_decode(outputs)\n",
        "# Decode and return\n",
        "#, skip_special_tokens=True)[0].strip()\n",
        "final\n"
      ],
      "metadata": {
        "papermill": {
          "duration": null,
          "end_time": null,
          "exception": null,
          "start_time": null,
          "status": "pending"
        },
        "tags": [],
        "trusted": true,
        "execution": {
          "iopub.status.busy": "2025-08-06T00:49:04.838079Z",
          "iopub.execute_input": "2025-08-06T00:49:04.838715Z",
          "iopub.status.idle": "2025-08-06T00:49:35.024622Z",
          "shell.execute_reply.started": "2025-08-06T00:49:04.838691Z",
          "shell.execute_reply": "2025-08-06T00:49:35.023802Z"
        },
        "id": "0f5c56f4",
        "outputId": "ce60e812-3fa7-49c9-e006-01a57d21b696"
      },
      "outputs": [
        {
          "execution_count": 31,
          "output_type": "execute_result",
          "data": {
            "text/plain": "['<bos><start_of_turn>user\\nHow do I detect signs of postpartum complications?<end_of_turn>\\n<start_of_turn>model\\nYou should be aware of signs of postpartum complications like infection, bleeding, or excessive swelling. Contact your healthcare provider immediately if you notice any of these symptoms.<end_of_turn>']"
          },
          "metadata": {}
        }
      ],
      "execution_count": null
    },
    {
      "id": "28492bc0-9986-4330-af74-14fc9dccd9d9",
      "cell_type": "code",
      "source": [
        "from unsloth.chat_templates import get_chat_template\n",
        "\n",
        "def generate_response(model, tokenizer, user_message: str, device: str = \"cuda\") -> str:\n",
        "    \"\"\"\n",
        "    Generates a response from the model using a structured chat message.\n",
        "\n",
        "    Parameters:\n",
        "    -----------\n",
        "    model : torch.nn.Module\n",
        "        The language model used for text generation (e.g., Gemma 3N via Unsloth).\n",
        "\n",
        "    tokenizer : transformers.PreTrainedTokenizer\n",
        "        The tokenizer compatible with the model, patched using Unsloth's `get_chat_template`.\n",
        "\n",
        "    user_message : str\n",
        "        The user's input or question to generate a response for.\n",
        "\n",
        "    device : str\n",
        "        The device to run inference on. Default is \"cuda\".\n",
        "\n",
        "    Returns:\n",
        "    --------\n",
        "    str : The generated text response from the model.\n",
        "    \"\"\"\n",
        "\n",
        "    # Step 1: Format the message using OpenAI-style JSON\n",
        "    messages = [\n",
        "        {\n",
        "            \"role\": \"user\",\n",
        "            \"content\": [{\"type\": \"text\", \"text\": user_message}]\n",
        "        }\n",
        "    ]\n",
        "\n",
        "    # Step 2: Ensure tokenizer has the right chat template for Gemma-3\n",
        "    tokenizer = get_chat_template(tokenizer, chat_template=\"gemma-3\")\n",
        "\n",
        "    # Step 3: Apply chat template and tokenize input\n",
        "    inputs = tokenizer.apply_chat_template(\n",
        "        messages,\n",
        "        add_generation_prompt=True,  # Add BOS tokens as needed\n",
        "        return_tensors=\"pt\",\n",
        "        tokenize=True,\n",
        "        return_dict=True,\n",
        "    ).to(device)\n",
        "\n",
        "    # Step 4: Generate text with model\n",
        "    outputs = model.generate(\n",
        "        **inputs,\n",
        "        max_new_tokens=256,\n",
        "        temperature=1.0,\n",
        "        top_p=0.95,\n",
        "        top_k=64\n",
        "    )\n",
        "\n",
        "    # Step 5: Decode and return string (skipping special tokens)\n",
        "    decoded = tokenizer.batch_decode(outputs, skip_special_tokens=True)[0].strip()\n",
        "    return decoded\n"
      ],
      "metadata": {
        "trusted": true,
        "execution": {
          "iopub.status.busy": "2025-08-06T00:51:39.816963Z",
          "iopub.execute_input": "2025-08-06T00:51:39.817410Z",
          "iopub.status.idle": "2025-08-06T00:51:39.824870Z",
          "shell.execute_reply.started": "2025-08-06T00:51:39.817382Z",
          "shell.execute_reply": "2025-08-06T00:51:39.824013Z"
        },
        "id": "28492bc0-9986-4330-af74-14fc9dccd9d9"
      },
      "outputs": [],
      "execution_count": null
    },
    {
      "id": "e701dc3d-6245-4c7b-b504-47f63baa7117",
      "cell_type": "code",
      "source": [
        "final_test"
      ],
      "metadata": {
        "trusted": true,
        "execution": {
          "iopub.status.busy": "2025-08-06T00:53:52.051057Z",
          "iopub.execute_input": "2025-08-06T00:53:52.051771Z",
          "iopub.status.idle": "2025-08-06T00:53:52.060556Z",
          "shell.execute_reply.started": "2025-08-06T00:53:52.051739Z",
          "shell.execute_reply": "2025-08-06T00:53:52.059809Z"
        },
        "id": "e701dc3d-6245-4c7b-b504-47f63baa7117",
        "outputId": "071949b2-4ca7-495e-b44c-434e13d8c8b5"
      },
      "outputs": [
        {
          "execution_count": 38,
          "output_type": "execute_result",
          "data": {
            "text/plain": "                                           user_input  \\\n96  Should I avoid certain smells to help with mor...   \n97  Can I take prenatal vitamins if I'm not pregnant?   \n98  I'm worried about postpartum depression. How c...   \n\n                                         bot_response  \n96  Yes, certain smells can trigger nausea. Try to...  \n97  Taking prenatal vitamins is not only for pregn...  \n98  Educating yourself about postpartum depression...  ",
            "text/html": "<div>\n<style scoped>\n    .dataframe tbody tr th:only-of-type {\n        vertical-align: middle;\n    }\n\n    .dataframe tbody tr th {\n        vertical-align: top;\n    }\n\n    .dataframe thead th {\n        text-align: right;\n    }\n</style>\n<table border=\"1\" class=\"dataframe\">\n  <thead>\n    <tr style=\"text-align: right;\">\n      <th></th>\n      <th>user_input</th>\n      <th>bot_response</th>\n    </tr>\n  </thead>\n  <tbody>\n    <tr>\n      <th>96</th>\n      <td>Should I avoid certain smells to help with mor...</td>\n      <td>Yes, certain smells can trigger nausea. Try to...</td>\n    </tr>\n    <tr>\n      <th>97</th>\n      <td>Can I take prenatal vitamins if I'm not pregnant?</td>\n      <td>Taking prenatal vitamins is not only for pregn...</td>\n    </tr>\n    <tr>\n      <th>98</th>\n      <td>I'm worried about postpartum depression. How c...</td>\n      <td>Educating yourself about postpartum depression...</td>\n    </tr>\n  </tbody>\n</table>\n</div>"
          },
          "metadata": {}
        }
      ],
      "execution_count": null
    },
    {
      "id": "1d4cc695-fc2a-44b1-8e2a-cde89eff823f",
      "cell_type": "code",
      "source": [
        "row = final_test['user_input'][96]\n",
        "generate_response(model, tokenizer, user_message = row)"
      ],
      "metadata": {
        "trusted": true,
        "execution": {
          "iopub.status.busy": "2025-08-06T00:55:25.547106Z",
          "iopub.execute_input": "2025-08-06T00:55:25.547884Z",
          "iopub.status.idle": "2025-08-06T00:55:33.233870Z",
          "shell.execute_reply.started": "2025-08-06T00:55:25.547856Z",
          "shell.execute_reply": "2025-08-06T00:55:33.233228Z"
        },
        "id": "1d4cc695-fc2a-44b1-8e2a-cde89eff823f",
        "outputId": "d7459203-092d-4b75-fef7-4a58e799ea75"
      },
      "outputs": [
        {
          "execution_count": 43,
          "output_type": "execute_result",
          "data": {
            "text/plain": "\"user\\nShould I avoid certain smells to help with morning sickness?\\nmodel\\nSome smells, like citrus or mint, may help alleviate nausea. However, it's important to avoid strong or unpleasant odors that might worsen your symptoms.\""
          },
          "metadata": {}
        }
      ],
      "execution_count": null
    },
    {
      "id": "848e5111-769a-40f9-bf37-b3bac6fab88b",
      "cell_type": "code",
      "source": [
        "row = final_test['user_input'][97]\n",
        "generate_response(model, tokenizer, user_message = row)"
      ],
      "metadata": {
        "trusted": true,
        "execution": {
          "iopub.status.busy": "2025-08-06T00:56:13.444119Z",
          "iopub.execute_input": "2025-08-06T00:56:13.444979Z",
          "iopub.status.idle": "2025-08-06T00:56:24.583914Z",
          "shell.execute_reply.started": "2025-08-06T00:56:13.444949Z",
          "shell.execute_reply": "2025-08-06T00:56:24.583262Z"
        },
        "id": "848e5111-769a-40f9-bf37-b3bac6fab88b",
        "outputId": "bd7e5223-b2de-4f43-cec1-71c5a330b65c"
      },
      "outputs": [
        {
          "execution_count": 44,
          "output_type": "execute_result",
          "data": {
            "text/plain": "\"user\\nCan I take prenatal vitamins if I'm not pregnant?\\nmodel\\nYes, prenatal vitamins contain essential nutrients like folic acid, iron, and calcium that are important for overall health, even if you're not pregnant. However, it's best to discuss your vitamin needs with your healthcare provider.\""
          },
          "metadata": {}
        }
      ],
      "execution_count": null
    },
    {
      "id": "554f7191-7f2c-4366-901d-bbe222c74bb0",
      "cell_type": "code",
      "source": [
        "row = final_test['user_input'][98]\n",
        "generate_response(model, tokenizer, user_message = row)"
      ],
      "metadata": {
        "trusted": true,
        "execution": {
          "iopub.status.busy": "2025-08-06T00:56:24.585096Z",
          "iopub.execute_input": "2025-08-06T00:56:24.585488Z",
          "iopub.status.idle": "2025-08-06T00:56:35.851856Z",
          "shell.execute_reply.started": "2025-08-06T00:56:24.585467Z",
          "shell.execute_reply": "2025-08-06T00:56:35.851041Z"
        },
        "id": "554f7191-7f2c-4366-901d-bbe222c74bb0",
        "outputId": "98489393-8945-4bca-bc85-0d5fad53edb8"
      },
      "outputs": [
        {
          "execution_count": 45,
          "output_type": "execute_result",
          "data": {
            "text/plain": "\"user\\nI'm worried about postpartum depression. How can I prepare for it?\\nmodel\\nWhile you can't fully prepare for postpartum depression, it's helpful to educate yourself about the condition, its symptoms, and available resources. Talking to your healthcare provider about your concerns can also help you feel more prepared and supported.\""
          },
          "metadata": {}
        }
      ],
      "execution_count": null
    },
    {
      "id": "e0f7bf4d",
      "cell_type": "code",
      "source": [
        "generate_response(model, tokenizer, user_message:"
      ],
      "metadata": {
        "papermill": {
          "duration": null,
          "end_time": null,
          "exception": null,
          "start_time": null,
          "status": "pending"
        },
        "tags": [],
        "trusted": true,
        "id": "e0f7bf4d"
      },
      "outputs": [],
      "execution_count": null
    },
    {
      "id": "205a2286-164b-411b-8084-2bccf36dcefc",
      "cell_type": "markdown",
      "source": [
        "## Saving"
      ],
      "metadata": {
        "id": "205a2286-164b-411b-8084-2bccf36dcefc"
      }
    },
    {
      "id": "3eb21127-ed81-4980-ac3f-faa9159ad614",
      "cell_type": "code",
      "source": [
        "from kaggle_secrets import UserSecretsClient\n",
        "user_secrets = UserSecretsClient()\n",
        "secret_value_0 = user_secrets.get_secret(\"HF_TOKEN\")"
      ],
      "metadata": {
        "trusted": true,
        "execution": {
          "iopub.status.busy": "2025-08-06T01:01:37.059546Z",
          "iopub.execute_input": "2025-08-06T01:01:37.059880Z",
          "iopub.status.idle": "2025-08-06T01:01:37.173143Z",
          "shell.execute_reply.started": "2025-08-06T01:01:37.059857Z",
          "shell.execute_reply": "2025-08-06T01:01:37.172360Z"
        },
        "id": "3eb21127-ed81-4980-ac3f-faa9159ad614"
      },
      "outputs": [],
      "execution_count": null
    },
    {
      "id": "992e84f0-0788-4aa2-a24c-c9b7c58878ee",
      "cell_type": "code",
      "source": [
        "if True:\n",
        "    model.push_to_hub_merged(\n",
        "        \"TechBuz/gemma_3n_chatbot_Nestie\",\n",
        "        tokenizer,\n",
        "        token = secret_value_0\n",
        "    )"
      ],
      "metadata": {
        "trusted": true,
        "execution": {
          "iopub.status.busy": "2025-08-06T01:02:07.179761Z",
          "iopub.execute_input": "2025-08-06T01:02:07.180083Z",
          "iopub.status.idle": "2025-08-06T01:05:43.549217Z",
          "shell.execute_reply.started": "2025-08-06T01:02:07.180065Z",
          "shell.execute_reply": "2025-08-06T01:05:43.548374Z"
        },
        "colab": {
          "referenced_widgets": [
            "8ca4bcef92764ab59d848b20bcd935cc",
            "6fd11a66069244ddb78776b53b5e168a",
            "870e1abe84944feaa862fd441b73bdb9",
            "eb424c8963964452a6e2e45647f3c1e4",
            "f89f54e087b24f18ba382870b0157908",
            "799c1dbbde7e4ca08632416bb767b97e",
            "d2601dbd1c164c6992ec72c0ea7e8279",
            "13816240f248478fbdb95e995cffe11e",
            "50a42f8a12484001acfcd95fbe3dd93f",
            "fdc4bf3c17794560bcd0fa227b11e2d2",
            "9541cf4400c641d4b8b156707a8ccdfe",
            "08df2abf45a949d7ba2bcba8a88c162c",
            "cebef29918b74f81b12dc3a7299cd98e",
            "ec16818fe1554e6fb0771dc119bae406",
            "6613f6712e2240509e832f377c49a7c8",
            "4ff71a6992f74b81a6be657a322cee1b",
            "af2c5c4685c04589adaa845c3972d43f"
          ]
        },
        "id": "992e84f0-0788-4aa2-a24c-c9b7c58878ee",
        "outputId": "fb6f010c-9f22-45ca-8ccf-bb5286459700"
      },
      "outputs": [
        {
          "output_type": "display_data",
          "data": {
            "text/plain": "Processing Files (0 / 0)                : |          |  0.00B /  0.00B            ",
            "application/vnd.jupyter.widget-view+json": {
              "version_major": 2,
              "version_minor": 0,
              "model_id": "8ca4bcef92764ab59d848b20bcd935cc"
            }
          },
          "metadata": {}
        },
        {
          "output_type": "display_data",
          "data": {
            "text/plain": "New Data Upload                         : |          |  0.00B /  0.00B            ",
            "application/vnd.jupyter.widget-view+json": {
              "version_major": 2,
              "version_minor": 0,
              "model_id": "6fd11a66069244ddb78776b53b5e168a"
            }
          },
          "metadata": {}
        },
        {
          "output_type": "display_data",
          "data": {
            "text/plain": "  ...a_3n_chatbot_Nestie/tokenizer.model:   1%|1         | 59.5kB / 4.70MB            ",
            "application/vnd.jupyter.widget-view+json": {
              "version_major": 2,
              "version_minor": 0,
              "model_id": "870e1abe84944feaa862fd441b73bdb9"
            }
          },
          "metadata": {}
        },
        {
          "output_type": "display_data",
          "data": {
            "text/plain": "  ...ma_3n_chatbot_Nestie/tokenizer.json: 100%|##########| 33.4MB / 33.4MB            ",
            "application/vnd.jupyter.widget-view+json": {
              "version_major": 2,
              "version_minor": 0,
              "model_id": "eb424c8963964452a6e2e45647f3c1e4"
            }
          },
          "metadata": {}
        },
        {
          "name": "stdout",
          "text": "Found HuggingFace hub cache directory: /root/.cache/huggingface/hub\nChecking cache directory for required files...\nCache check failed: model-00001-of-00003.safetensors not found in local cache.\nNot all required files found in cache. Will proceed with downloading.\nDownloading safetensors index for unsloth/gemma-3n-e2b-it...\n",
          "output_type": "stream"
        },
        {
          "output_type": "display_data",
          "data": {
            "text/plain": "model.safetensors.index.json: 0.00B [00:00, ?B/s]",
            "application/vnd.jupyter.widget-view+json": {
              "version_major": 2,
              "version_minor": 0,
              "model_id": "f89f54e087b24f18ba382870b0157908"
            }
          },
          "metadata": {}
        },
        {
          "name": "stderr",
          "text": "Unsloth: Merging weights into 16bit:   0%|          | 0/3 [00:00<?, ?it/s]",
          "output_type": "stream"
        },
        {
          "output_type": "display_data",
          "data": {
            "text/plain": "model-00001-of-00003.safetensors:   0%|          | 0.00/3.08G [00:00<?, ?B/s]",
            "application/vnd.jupyter.widget-view+json": {
              "version_major": 2,
              "version_minor": 0,
              "model_id": "799c1dbbde7e4ca08632416bb767b97e"
            }
          },
          "metadata": {}
        },
        {
          "output_type": "display_data",
          "data": {
            "text/plain": "Processing Files (0 / 0)                : |          |  0.00B /  0.00B            ",
            "application/vnd.jupyter.widget-view+json": {
              "version_major": 2,
              "version_minor": 0,
              "model_id": "d2601dbd1c164c6992ec72c0ea7e8279"
            }
          },
          "metadata": {}
        },
        {
          "output_type": "display_data",
          "data": {
            "text/plain": "New Data Upload                         : |          |  0.00B /  0.00B            ",
            "application/vnd.jupyter.widget-view+json": {
              "version_major": 2,
              "version_minor": 0,
              "model_id": "13816240f248478fbdb95e995cffe11e"
            }
          },
          "metadata": {}
        },
        {
          "output_type": "display_data",
          "data": {
            "text/plain": "  ...ie/model-00001-of-00003.safetensors:   1%|1         | 41.8MB / 3.08GB            ",
            "application/vnd.jupyter.widget-view+json": {
              "version_major": 2,
              "version_minor": 0,
              "model_id": "50a42f8a12484001acfcd95fbe3dd93f"
            }
          },
          "metadata": {}
        },
        {
          "name": "stderr",
          "text": "Unsloth: Merging weights into 16bit:  33%|███▎      | 1/3 [00:54<01:49, 54.82s/it]",
          "output_type": "stream"
        },
        {
          "output_type": "display_data",
          "data": {
            "text/plain": "model-00002-of-00003.safetensors:   0%|          | 0.00/4.98G [00:00<?, ?B/s]",
            "application/vnd.jupyter.widget-view+json": {
              "version_major": 2,
              "version_minor": 0,
              "model_id": "fdc4bf3c17794560bcd0fa227b11e2d2"
            }
          },
          "metadata": {}
        },
        {
          "output_type": "display_data",
          "data": {
            "text/plain": "Processing Files (0 / 0)                : |          |  0.00B /  0.00B            ",
            "application/vnd.jupyter.widget-view+json": {
              "version_major": 2,
              "version_minor": 0,
              "model_id": "9541cf4400c641d4b8b156707a8ccdfe"
            }
          },
          "metadata": {}
        },
        {
          "output_type": "display_data",
          "data": {
            "text/plain": "New Data Upload                         : |          |  0.00B /  0.00B            ",
            "application/vnd.jupyter.widget-view+json": {
              "version_major": 2,
              "version_minor": 0,
              "model_id": "08df2abf45a949d7ba2bcba8a88c162c"
            }
          },
          "metadata": {}
        },
        {
          "output_type": "display_data",
          "data": {
            "text/plain": "  ...ie/model-00002-of-00003.safetensors:   1%|          | 25.1MB / 4.98GB            ",
            "application/vnd.jupyter.widget-view+json": {
              "version_major": 2,
              "version_minor": 0,
              "model_id": "cebef29918b74f81b12dc3a7299cd98e"
            }
          },
          "metadata": {}
        },
        {
          "name": "stderr",
          "text": "Unsloth: Merging weights into 16bit:  67%|██████▋   | 2/3 [02:26<01:16, 76.69s/it]",
          "output_type": "stream"
        },
        {
          "output_type": "display_data",
          "data": {
            "text/plain": "model-00003-of-00003.safetensors:   0%|          | 0.00/2.82G [00:00<?, ?B/s]",
            "application/vnd.jupyter.widget-view+json": {
              "version_major": 2,
              "version_minor": 0,
              "model_id": "ec16818fe1554e6fb0771dc119bae406"
            }
          },
          "metadata": {}
        },
        {
          "output_type": "display_data",
          "data": {
            "text/plain": "Processing Files (0 / 0)                : |          |  0.00B /  0.00B            ",
            "application/vnd.jupyter.widget-view+json": {
              "version_major": 2,
              "version_minor": 0,
              "model_id": "6613f6712e2240509e832f377c49a7c8"
            }
          },
          "metadata": {}
        },
        {
          "output_type": "display_data",
          "data": {
            "text/plain": "New Data Upload                         : |          |  0.00B /  0.00B            ",
            "application/vnd.jupyter.widget-view+json": {
              "version_major": 2,
              "version_minor": 0,
              "model_id": "4ff71a6992f74b81a6be657a322cee1b"
            }
          },
          "metadata": {}
        },
        {
          "output_type": "display_data",
          "data": {
            "text/plain": "  ...ie/model-00003-of-00003.safetensors:   1%|          | 25.1MB / 2.82GB            ",
            "application/vnd.jupyter.widget-view+json": {
              "version_major": 2,
              "version_minor": 0,
              "model_id": "af2c5c4685c04589adaa845c3972d43f"
            }
          },
          "metadata": {}
        },
        {
          "name": "stderr",
          "text": "Unsloth: Merging weights into 16bit: 100%|██████████| 3/3 [03:20<00:00, 66.91s/it]\n",
          "output_type": "stream"
        }
      ],
      "execution_count": null
    },
    {
      "id": "4e727530",
      "cell_type": "code",
      "source": [
        "model.push_to_hub(\"TechBuz/gemma-3n_nestie_head\", token = secret_value_0) # Online saving\n",
        "tokenizer.push_to_hub(\"TechBuz/gemma-3n_nestie_head\", token = secret_value_0) # Online saving"
      ],
      "metadata": {
        "papermill": {
          "duration": null,
          "end_time": null,
          "exception": null,
          "start_time": null,
          "status": "pending"
        },
        "tags": [],
        "trusted": true,
        "execution": {
          "iopub.status.busy": "2025-08-06T01:06:07.159010Z",
          "iopub.execute_input": "2025-08-06T01:06:07.159860Z",
          "iopub.status.idle": "2025-08-06T01:06:21.809221Z",
          "shell.execute_reply.started": "2025-08-06T01:06:07.159827Z",
          "shell.execute_reply": "2025-08-06T01:06:21.808476Z"
        },
        "colab": {
          "referenced_widgets": [
            "096fb5b517224e26b9cd35ca5e7750d6",
            "5f41822f04d944988a269c1e6bd820c4",
            "9451e2bb608445adb4daa68df1395c72",
            "846e279f111a4c3eb392628cbdd22abf",
            "1ee57205c9bf45109f1f50dde72e5973",
            "283e93c0ed4e43ddb726a78b4b7df198",
            "da5300466767489faac9978d1cf9c1a1",
            "80db3aee51634909ae3490150f10e89b"
          ]
        },
        "id": "4e727530",
        "outputId": "d9da57e7-0f51-4aa2-a357-bbd1ccf6bfd6"
      },
      "outputs": [
        {
          "output_type": "display_data",
          "data": {
            "text/plain": "README.md:   0%|          | 0.00/604 [00:00<?, ?B/s]",
            "application/vnd.jupyter.widget-view+json": {
              "version_major": 2,
              "version_minor": 0,
              "model_id": "096fb5b517224e26b9cd35ca5e7750d6"
            }
          },
          "metadata": {}
        },
        {
          "output_type": "display_data",
          "data": {
            "text/plain": "Processing Files (0 / 0)                : |          |  0.00B /  0.00B            ",
            "application/vnd.jupyter.widget-view+json": {
              "version_major": 2,
              "version_minor": 0,
              "model_id": "5f41822f04d944988a269c1e6bd820c4"
            }
          },
          "metadata": {}
        },
        {
          "output_type": "display_data",
          "data": {
            "text/plain": "New Data Upload                         : |          |  0.00B /  0.00B            ",
            "application/vnd.jupyter.widget-view+json": {
              "version_major": 2,
              "version_minor": 0,
              "model_id": "9451e2bb608445adb4daa68df1395c72"
            }
          },
          "metadata": {}
        },
        {
          "output_type": "display_data",
          "data": {
            "text/plain": "  ...pjl9olncz/adapter_model.safetensors:  79%|#######9  | 33.5MB / 42.3MB            ",
            "application/vnd.jupyter.widget-view+json": {
              "version_major": 2,
              "version_minor": 0,
              "model_id": "846e279f111a4c3eb392628cbdd22abf"
            }
          },
          "metadata": {}
        },
        {
          "name": "stdout",
          "text": "Saved model to https://huggingface.co/TechBuz/gemma-3n_nestie_head\n",
          "output_type": "stream"
        },
        {
          "output_type": "display_data",
          "data": {
            "text/plain": "Processing Files (0 / 0)                : |          |  0.00B /  0.00B            ",
            "application/vnd.jupyter.widget-view+json": {
              "version_major": 2,
              "version_minor": 0,
              "model_id": "1ee57205c9bf45109f1f50dde72e5973"
            }
          },
          "metadata": {}
        },
        {
          "output_type": "display_data",
          "data": {
            "text/plain": "New Data Upload                         : |          |  0.00B /  0.00B            ",
            "application/vnd.jupyter.widget-view+json": {
              "version_major": 2,
              "version_minor": 0,
              "model_id": "283e93c0ed4e43ddb726a78b4b7df198"
            }
          },
          "metadata": {}
        },
        {
          "output_type": "display_data",
          "data": {
            "text/plain": "  /tmp/tmp0uljbb84/tokenizer.model      : 100%|##########| 4.70MB / 4.70MB            ",
            "application/vnd.jupyter.widget-view+json": {
              "version_major": 2,
              "version_minor": 0,
              "model_id": "da5300466767489faac9978d1cf9c1a1"
            }
          },
          "metadata": {}
        },
        {
          "output_type": "display_data",
          "data": {
            "text/plain": "  /tmp/tmp0uljbb84/tokenizer.json       : 100%|##########| 33.4MB / 33.4MB            ",
            "application/vnd.jupyter.widget-view+json": {
              "version_major": 2,
              "version_minor": 0,
              "model_id": "80db3aee51634909ae3490150f10e89b"
            }
          },
          "metadata": {}
        }
      ],
      "execution_count": null
    }
  ]
}